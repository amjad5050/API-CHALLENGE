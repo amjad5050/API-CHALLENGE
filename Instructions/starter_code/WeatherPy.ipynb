{
 "cells": [
  {
   "cell_type": "markdown",
   "metadata": {},
   "source": [
    "# WeatherPy\n",
    "----\n",
    "\n",
    "#### Note\n",
    "* Instructions have been included for each segment. You do not have to follow them exactly, but they are included to help you think through the steps."
   ]
  },
  {
   "cell_type": "code",
   "execution_count": 37,
   "metadata": {
    "scrolled": true
   },
   "outputs": [],
   "source": [
    "# Dependencies and Setup\n",
    "import matplotlib.pyplot as plt\n",
    "import pandas as pd\n",
    "import numpy as np\n",
    "import requests\n",
    "import time\n",
    "from scipy.stats import linregress\n",
    "import scipy.stats as st\n",
    "import time\n",
    "\n",
    "# Import API key\n",
    "from apikeys import weather_api_key\n",
    "\n",
    "# Incorporated citipy to determine city based on latitude and longitude\n",
    "from citipy import citipy\n",
    "\n",
    "# Output File (CSV)\n",
    "output_data_file = \"output_data/cities.csv\"\n",
    "\n",
    "# Range of latitudes and longitudes\n",
    "lat_range = (-90, 90)\n",
    "lng_range = (-180, 180)"
   ]
  },
  {
   "cell_type": "markdown",
   "metadata": {},
   "source": [
    "## Generate Cities List"
   ]
  },
  {
   "cell_type": "code",
   "execution_count": 2,
   "metadata": {},
   "outputs": [
    {
     "data": {
      "text/plain": [
       "610"
      ]
     },
     "execution_count": 2,
     "metadata": {},
     "output_type": "execute_result"
    }
   ],
   "source": [
    "# List for holding lat_lngs and cities\n",
    "lat_lngs = []\n",
    "cities = []\n",
    "\n",
    "# Create a set of random lat and lng combinations\n",
    "lats = np.random.uniform(lat_range[0], lat_range[1], size=1500)\n",
    "lngs = np.random.uniform(lng_range[0], lng_range[1], size=1500)\n",
    "lat_lngs = zip(lats, lngs)\n",
    "\n",
    "# Identify nearest city for each lat, lng combination\n",
    "for lat_lng in lat_lngs:\n",
    "    city = citipy.nearest_city(lat_lng[0], lat_lng[1]).city_name\n",
    "    \n",
    "    # If the city is unique, then add it to a our cities list\n",
    "    if city not in cities:\n",
    "        cities.append(city)\n",
    "\n",
    "# Print the city count to confirm sufficient count\n",
    "len(cities)"
   ]
  },
  {
   "cell_type": "markdown",
   "metadata": {},
   "source": [
    "### Perform API Calls\n",
    "* Perform a weather check on each city using a series of successive API calls.\n",
    "* Include a print log of each city as it'sbeing processed (with the city number and city name).\n"
   ]
  },
  {
   "cell_type": "code",
   "execution_count": 3,
   "metadata": {},
   "outputs": [],
   "source": [
    "url = \"http://api.openweathermap.org/data/2.5/weather?\"\n",
    "units=\"metric\"\n",
    "query_url = f\"{url}appid={weather_api_key}&units={units}&q=\"\n",
    "\n"
   ]
  },
  {
   "cell_type": "code",
   "execution_count": 4,
   "metadata": {},
   "outputs": [],
   "source": [
    "cities=cities[0:-1]\n",
    "responses = []\n",
    "\n",
    "for city in cities:\n",
    "    response = requests.get(query_url + city).json()\n",
    "    responses.append(response)\n"
   ]
  },
  {
   "cell_type": "code",
   "execution_count": 5,
   "metadata": {},
   "outputs": [],
   "source": [
    "raw_df = pd.json_normalize(responses)\n"
   ]
  },
  {
   "cell_type": "code",
   "execution_count": 6,
   "metadata": {},
   "outputs": [
    {
     "data": {
      "text/html": [
       "<div>\n",
       "<style scoped>\n",
       "    .dataframe tbody tr th:only-of-type {\n",
       "        vertical-align: middle;\n",
       "    }\n",
       "\n",
       "    .dataframe tbody tr th {\n",
       "        vertical-align: top;\n",
       "    }\n",
       "\n",
       "    .dataframe thead th {\n",
       "        text-align: right;\n",
       "    }\n",
       "</style>\n",
       "<table border=\"1\" class=\"dataframe\">\n",
       "  <thead>\n",
       "    <tr style=\"text-align: right;\">\n",
       "      <th></th>\n",
       "      <th>weather</th>\n",
       "      <th>base</th>\n",
       "      <th>visibility</th>\n",
       "      <th>dt</th>\n",
       "      <th>timezone</th>\n",
       "      <th>id</th>\n",
       "      <th>name</th>\n",
       "      <th>cod</th>\n",
       "      <th>coord.lon</th>\n",
       "      <th>coord.lat</th>\n",
       "      <th>...</th>\n",
       "      <th>wind.deg</th>\n",
       "      <th>wind.gust</th>\n",
       "      <th>clouds.all</th>\n",
       "      <th>sys.type</th>\n",
       "      <th>sys.id</th>\n",
       "      <th>sys.country</th>\n",
       "      <th>sys.sunrise</th>\n",
       "      <th>sys.sunset</th>\n",
       "      <th>rain.1h</th>\n",
       "      <th>message</th>\n",
       "    </tr>\n",
       "  </thead>\n",
       "  <tbody>\n",
       "    <tr>\n",
       "      <th>0</th>\n",
       "      <td>[{'id': 803, 'main': 'Clouds', 'description': ...</td>\n",
       "      <td>stations</td>\n",
       "      <td>10000.0</td>\n",
       "      <td>1.627782e+09</td>\n",
       "      <td>7200.0</td>\n",
       "      <td>3174050.0</td>\n",
       "      <td>Province of Mantua</td>\n",
       "      <td>200</td>\n",
       "      <td>10.7833</td>\n",
       "      <td>45.1667</td>\n",
       "      <td>...</td>\n",
       "      <td>250.0</td>\n",
       "      <td>2.81</td>\n",
       "      <td>54.0</td>\n",
       "      <td>2.0</td>\n",
       "      <td>2009479.0</td>\n",
       "      <td>IT</td>\n",
       "      <td>1.627791e+09</td>\n",
       "      <td>1.627843e+09</td>\n",
       "      <td>NaN</td>\n",
       "      <td>NaN</td>\n",
       "    </tr>\n",
       "    <tr>\n",
       "      <th>1</th>\n",
       "      <td>[{'id': 803, 'main': 'Clouds', 'description': ...</td>\n",
       "      <td>stations</td>\n",
       "      <td>10000.0</td>\n",
       "      <td>1.627783e+09</td>\n",
       "      <td>7200.0</td>\n",
       "      <td>3361934.0</td>\n",
       "      <td>Saldanha</td>\n",
       "      <td>200</td>\n",
       "      <td>17.9442</td>\n",
       "      <td>-33.0117</td>\n",
       "      <td>...</td>\n",
       "      <td>192.0</td>\n",
       "      <td>3.54</td>\n",
       "      <td>73.0</td>\n",
       "      <td>1.0</td>\n",
       "      <td>1943.0</td>\n",
       "      <td>ZA</td>\n",
       "      <td>1.627796e+09</td>\n",
       "      <td>1.627834e+09</td>\n",
       "      <td>NaN</td>\n",
       "      <td>NaN</td>\n",
       "    </tr>\n",
       "    <tr>\n",
       "      <th>2</th>\n",
       "      <td>[{'id': 804, 'main': 'Clouds', 'description': ...</td>\n",
       "      <td>stations</td>\n",
       "      <td>99.0</td>\n",
       "      <td>1.627783e+09</td>\n",
       "      <td>25200.0</td>\n",
       "      <td>1507390.0</td>\n",
       "      <td>Dikson</td>\n",
       "      <td>200</td>\n",
       "      <td>80.5464</td>\n",
       "      <td>73.5069</td>\n",
       "      <td>...</td>\n",
       "      <td>208.0</td>\n",
       "      <td>9.36</td>\n",
       "      <td>100.0</td>\n",
       "      <td>NaN</td>\n",
       "      <td>NaN</td>\n",
       "      <td>RU</td>\n",
       "      <td>0.000000e+00</td>\n",
       "      <td>0.000000e+00</td>\n",
       "      <td>NaN</td>\n",
       "      <td>NaN</td>\n",
       "    </tr>\n",
       "    <tr>\n",
       "      <th>3</th>\n",
       "      <td>[{'id': 804, 'main': 'Clouds', 'description': ...</td>\n",
       "      <td>stations</td>\n",
       "      <td>10000.0</td>\n",
       "      <td>1.627783e+09</td>\n",
       "      <td>18000.0</td>\n",
       "      <td>1168312.0</td>\n",
       "      <td>Pasni</td>\n",
       "      <td>200</td>\n",
       "      <td>63.4710</td>\n",
       "      <td>25.2631</td>\n",
       "      <td>...</td>\n",
       "      <td>224.0</td>\n",
       "      <td>3.95</td>\n",
       "      <td>88.0</td>\n",
       "      <td>NaN</td>\n",
       "      <td>NaN</td>\n",
       "      <td>PK</td>\n",
       "      <td>1.627780e+09</td>\n",
       "      <td>1.627828e+09</td>\n",
       "      <td>NaN</td>\n",
       "      <td>NaN</td>\n",
       "    </tr>\n",
       "    <tr>\n",
       "      <th>4</th>\n",
       "      <td>[{'id': 804, 'main': 'Clouds', 'description': ...</td>\n",
       "      <td>stations</td>\n",
       "      <td>10000.0</td>\n",
       "      <td>1.627783e+09</td>\n",
       "      <td>-14400.0</td>\n",
       "      <td>5919850.0</td>\n",
       "      <td>Chapais</td>\n",
       "      <td>200</td>\n",
       "      <td>-74.8492</td>\n",
       "      <td>49.7834</td>\n",
       "      <td>...</td>\n",
       "      <td>267.0</td>\n",
       "      <td>7.81</td>\n",
       "      <td>94.0</td>\n",
       "      <td>1.0</td>\n",
       "      <td>859.0</td>\n",
       "      <td>CA</td>\n",
       "      <td>1.627724e+09</td>\n",
       "      <td>1.627779e+09</td>\n",
       "      <td>NaN</td>\n",
       "      <td>NaN</td>\n",
       "    </tr>\n",
       "    <tr>\n",
       "      <th>...</th>\n",
       "      <td>...</td>\n",
       "      <td>...</td>\n",
       "      <td>...</td>\n",
       "      <td>...</td>\n",
       "      <td>...</td>\n",
       "      <td>...</td>\n",
       "      <td>...</td>\n",
       "      <td>...</td>\n",
       "      <td>...</td>\n",
       "      <td>...</td>\n",
       "      <td>...</td>\n",
       "      <td>...</td>\n",
       "      <td>...</td>\n",
       "      <td>...</td>\n",
       "      <td>...</td>\n",
       "      <td>...</td>\n",
       "      <td>...</td>\n",
       "      <td>...</td>\n",
       "      <td>...</td>\n",
       "      <td>...</td>\n",
       "      <td>...</td>\n",
       "    </tr>\n",
       "    <tr>\n",
       "      <th>604</th>\n",
       "      <td>[{'id': 804, 'main': 'Clouds', 'description': ...</td>\n",
       "      <td>stations</td>\n",
       "      <td>10000.0</td>\n",
       "      <td>1.627783e+09</td>\n",
       "      <td>-10800.0</td>\n",
       "      <td>3455461.0</td>\n",
       "      <td>Palmares do Sul</td>\n",
       "      <td>200</td>\n",
       "      <td>-50.5097</td>\n",
       "      <td>-30.2578</td>\n",
       "      <td>...</td>\n",
       "      <td>44.0</td>\n",
       "      <td>9.52</td>\n",
       "      <td>87.0</td>\n",
       "      <td>NaN</td>\n",
       "      <td>NaN</td>\n",
       "      <td>BR</td>\n",
       "      <td>1.627726e+09</td>\n",
       "      <td>1.627764e+09</td>\n",
       "      <td>NaN</td>\n",
       "      <td>NaN</td>\n",
       "    </tr>\n",
       "    <tr>\n",
       "      <th>605</th>\n",
       "      <td>[{'id': 804, 'main': 'Clouds', 'description': ...</td>\n",
       "      <td>stations</td>\n",
       "      <td>10000.0</td>\n",
       "      <td>1.627783e+09</td>\n",
       "      <td>3600.0</td>\n",
       "      <td>2259655.0</td>\n",
       "      <td>Impfondo</td>\n",
       "      <td>200</td>\n",
       "      <td>18.0667</td>\n",
       "      <td>1.6381</td>\n",
       "      <td>...</td>\n",
       "      <td>332.0</td>\n",
       "      <td>2.35</td>\n",
       "      <td>100.0</td>\n",
       "      <td>NaN</td>\n",
       "      <td>NaN</td>\n",
       "      <td>CG</td>\n",
       "      <td>1.627793e+09</td>\n",
       "      <td>1.627837e+09</td>\n",
       "      <td>NaN</td>\n",
       "      <td>NaN</td>\n",
       "    </tr>\n",
       "    <tr>\n",
       "      <th>606</th>\n",
       "      <td>[{'id': 800, 'main': 'Clear', 'description': '...</td>\n",
       "      <td>stations</td>\n",
       "      <td>10000.0</td>\n",
       "      <td>1.627783e+09</td>\n",
       "      <td>-10800.0</td>\n",
       "      <td>3401148.0</td>\n",
       "      <td>Cururupu</td>\n",
       "      <td>200</td>\n",
       "      <td>-44.8683</td>\n",
       "      <td>-1.8283</td>\n",
       "      <td>...</td>\n",
       "      <td>30.0</td>\n",
       "      <td>1.16</td>\n",
       "      <td>9.0</td>\n",
       "      <td>NaN</td>\n",
       "      <td>NaN</td>\n",
       "      <td>BR</td>\n",
       "      <td>1.627722e+09</td>\n",
       "      <td>1.627766e+09</td>\n",
       "      <td>NaN</td>\n",
       "      <td>NaN</td>\n",
       "    </tr>\n",
       "    <tr>\n",
       "      <th>607</th>\n",
       "      <td>[{'id': 803, 'main': 'Clouds', 'description': ...</td>\n",
       "      <td>stations</td>\n",
       "      <td>10000.0</td>\n",
       "      <td>1.627783e+09</td>\n",
       "      <td>-18000.0</td>\n",
       "      <td>3521972.0</td>\n",
       "      <td>Panabá</td>\n",
       "      <td>200</td>\n",
       "      <td>-88.2667</td>\n",
       "      <td>21.2833</td>\n",
       "      <td>...</td>\n",
       "      <td>61.0</td>\n",
       "      <td>8.43</td>\n",
       "      <td>60.0</td>\n",
       "      <td>NaN</td>\n",
       "      <td>NaN</td>\n",
       "      <td>MX</td>\n",
       "      <td>1.627731e+09</td>\n",
       "      <td>1.627778e+09</td>\n",
       "      <td>NaN</td>\n",
       "      <td>NaN</td>\n",
       "    </tr>\n",
       "    <tr>\n",
       "      <th>608</th>\n",
       "      <td>NaN</td>\n",
       "      <td>NaN</td>\n",
       "      <td>NaN</td>\n",
       "      <td>NaN</td>\n",
       "      <td>NaN</td>\n",
       "      <td>NaN</td>\n",
       "      <td>NaN</td>\n",
       "      <td>404</td>\n",
       "      <td>NaN</td>\n",
       "      <td>NaN</td>\n",
       "      <td>...</td>\n",
       "      <td>NaN</td>\n",
       "      <td>NaN</td>\n",
       "      <td>NaN</td>\n",
       "      <td>NaN</td>\n",
       "      <td>NaN</td>\n",
       "      <td>NaN</td>\n",
       "      <td>NaN</td>\n",
       "      <td>NaN</td>\n",
       "      <td>NaN</td>\n",
       "      <td>city not found</td>\n",
       "    </tr>\n",
       "  </tbody>\n",
       "</table>\n",
       "<p>609 rows × 29 columns</p>\n",
       "</div>"
      ],
      "text/plain": [
       "                                               weather      base  visibility  \\\n",
       "0    [{'id': 803, 'main': 'Clouds', 'description': ...  stations     10000.0   \n",
       "1    [{'id': 803, 'main': 'Clouds', 'description': ...  stations     10000.0   \n",
       "2    [{'id': 804, 'main': 'Clouds', 'description': ...  stations        99.0   \n",
       "3    [{'id': 804, 'main': 'Clouds', 'description': ...  stations     10000.0   \n",
       "4    [{'id': 804, 'main': 'Clouds', 'description': ...  stations     10000.0   \n",
       "..                                                 ...       ...         ...   \n",
       "604  [{'id': 804, 'main': 'Clouds', 'description': ...  stations     10000.0   \n",
       "605  [{'id': 804, 'main': 'Clouds', 'description': ...  stations     10000.0   \n",
       "606  [{'id': 800, 'main': 'Clear', 'description': '...  stations     10000.0   \n",
       "607  [{'id': 803, 'main': 'Clouds', 'description': ...  stations     10000.0   \n",
       "608                                                NaN       NaN         NaN   \n",
       "\n",
       "               dt  timezone         id                name  cod  coord.lon  \\\n",
       "0    1.627782e+09    7200.0  3174050.0  Province of Mantua  200    10.7833   \n",
       "1    1.627783e+09    7200.0  3361934.0            Saldanha  200    17.9442   \n",
       "2    1.627783e+09   25200.0  1507390.0              Dikson  200    80.5464   \n",
       "3    1.627783e+09   18000.0  1168312.0               Pasni  200    63.4710   \n",
       "4    1.627783e+09  -14400.0  5919850.0             Chapais  200   -74.8492   \n",
       "..            ...       ...        ...                 ...  ...        ...   \n",
       "604  1.627783e+09  -10800.0  3455461.0     Palmares do Sul  200   -50.5097   \n",
       "605  1.627783e+09    3600.0  2259655.0            Impfondo  200    18.0667   \n",
       "606  1.627783e+09  -10800.0  3401148.0            Cururupu  200   -44.8683   \n",
       "607  1.627783e+09  -18000.0  3521972.0              Panabá  200   -88.2667   \n",
       "608           NaN       NaN        NaN                 NaN  404        NaN   \n",
       "\n",
       "     coord.lat  ...  wind.deg  wind.gust  clouds.all  sys.type     sys.id  \\\n",
       "0      45.1667  ...     250.0       2.81        54.0       2.0  2009479.0   \n",
       "1     -33.0117  ...     192.0       3.54        73.0       1.0     1943.0   \n",
       "2      73.5069  ...     208.0       9.36       100.0       NaN        NaN   \n",
       "3      25.2631  ...     224.0       3.95        88.0       NaN        NaN   \n",
       "4      49.7834  ...     267.0       7.81        94.0       1.0      859.0   \n",
       "..         ...  ...       ...        ...         ...       ...        ...   \n",
       "604   -30.2578  ...      44.0       9.52        87.0       NaN        NaN   \n",
       "605     1.6381  ...     332.0       2.35       100.0       NaN        NaN   \n",
       "606    -1.8283  ...      30.0       1.16         9.0       NaN        NaN   \n",
       "607    21.2833  ...      61.0       8.43        60.0       NaN        NaN   \n",
       "608        NaN  ...       NaN        NaN         NaN       NaN        NaN   \n",
       "\n",
       "     sys.country   sys.sunrise    sys.sunset  rain.1h         message  \n",
       "0             IT  1.627791e+09  1.627843e+09      NaN             NaN  \n",
       "1             ZA  1.627796e+09  1.627834e+09      NaN             NaN  \n",
       "2             RU  0.000000e+00  0.000000e+00      NaN             NaN  \n",
       "3             PK  1.627780e+09  1.627828e+09      NaN             NaN  \n",
       "4             CA  1.627724e+09  1.627779e+09      NaN             NaN  \n",
       "..           ...           ...           ...      ...             ...  \n",
       "604           BR  1.627726e+09  1.627764e+09      NaN             NaN  \n",
       "605           CG  1.627793e+09  1.627837e+09      NaN             NaN  \n",
       "606           BR  1.627722e+09  1.627766e+09      NaN             NaN  \n",
       "607           MX  1.627731e+09  1.627778e+09      NaN             NaN  \n",
       "608          NaN           NaN           NaN      NaN  city not found  \n",
       "\n",
       "[609 rows x 29 columns]"
      ]
     },
     "execution_count": 6,
     "metadata": {},
     "output_type": "execute_result"
    }
   ],
   "source": [
    "raw_df"
   ]
  },
  {
   "cell_type": "code",
   "execution_count": 10,
   "metadata": {},
   "outputs": [],
   "source": [
    "weather_df = raw_df[['name', 'coord.lat','coord.lon','main.temp_max', 'main.humidity','clouds.all','wind.speed','sys.country','dt']]\n",
    "weather_df.columns = [\"city\", \"Lat\", \"Lon\", \"max_temp\",\"Humidity\",\"Cloudiness\",\"Wind Speed\",\"Country\",\"Date\"]\n"
   ]
  },
  {
   "cell_type": "markdown",
   "metadata": {},
   "source": [
    "### Convert Raw Data to DataFrame\n",
    "* Export the city data into a .csv.\n",
    "* Display the DataFrame"
   ]
  },
  {
   "cell_type": "code",
   "execution_count": 11,
   "metadata": {},
   "outputs": [
    {
     "data": {
      "text/html": [
       "<div>\n",
       "<style scoped>\n",
       "    .dataframe tbody tr th:only-of-type {\n",
       "        vertical-align: middle;\n",
       "    }\n",
       "\n",
       "    .dataframe tbody tr th {\n",
       "        vertical-align: top;\n",
       "    }\n",
       "\n",
       "    .dataframe thead th {\n",
       "        text-align: right;\n",
       "    }\n",
       "</style>\n",
       "<table border=\"1\" class=\"dataframe\">\n",
       "  <thead>\n",
       "    <tr style=\"text-align: right;\">\n",
       "      <th></th>\n",
       "      <th>Lat</th>\n",
       "      <th>Lon</th>\n",
       "      <th>max_temp</th>\n",
       "      <th>Humidity</th>\n",
       "      <th>Cloudiness</th>\n",
       "      <th>Wind Speed</th>\n",
       "      <th>Date</th>\n",
       "    </tr>\n",
       "  </thead>\n",
       "  <tbody>\n",
       "    <tr>\n",
       "      <th>count</th>\n",
       "      <td>553.000000</td>\n",
       "      <td>553.000000</td>\n",
       "      <td>553.000000</td>\n",
       "      <td>553.000000</td>\n",
       "      <td>553.000000</td>\n",
       "      <td>553.000000</td>\n",
       "      <td>5.530000e+02</td>\n",
       "    </tr>\n",
       "    <tr>\n",
       "      <th>mean</th>\n",
       "      <td>19.646434</td>\n",
       "      <td>20.765173</td>\n",
       "      <td>20.660054</td>\n",
       "      <td>69.660036</td>\n",
       "      <td>55.754069</td>\n",
       "      <td>3.503183</td>\n",
       "      <td>1.627783e+09</td>\n",
       "    </tr>\n",
       "    <tr>\n",
       "      <th>std</th>\n",
       "      <td>33.161217</td>\n",
       "      <td>88.160054</td>\n",
       "      <td>7.699079</td>\n",
       "      <td>21.674473</td>\n",
       "      <td>39.929842</td>\n",
       "      <td>2.442498</td>\n",
       "      <td>5.947669e+01</td>\n",
       "    </tr>\n",
       "    <tr>\n",
       "      <th>min</th>\n",
       "      <td>-54.800000</td>\n",
       "      <td>-179.166700</td>\n",
       "      <td>-1.280000</td>\n",
       "      <td>14.000000</td>\n",
       "      <td>0.000000</td>\n",
       "      <td>0.000000</td>\n",
       "      <td>1.627782e+09</td>\n",
       "    </tr>\n",
       "    <tr>\n",
       "      <th>25%</th>\n",
       "      <td>-8.761900</td>\n",
       "      <td>-54.333300</td>\n",
       "      <td>14.900000</td>\n",
       "      <td>59.000000</td>\n",
       "      <td>11.000000</td>\n",
       "      <td>1.630000</td>\n",
       "      <td>1.627783e+09</td>\n",
       "    </tr>\n",
       "    <tr>\n",
       "      <th>50%</th>\n",
       "      <td>22.678300</td>\n",
       "      <td>23.539500</td>\n",
       "      <td>21.610000</td>\n",
       "      <td>74.000000</td>\n",
       "      <td>68.000000</td>\n",
       "      <td>2.870000</td>\n",
       "      <td>1.627783e+09</td>\n",
       "    </tr>\n",
       "    <tr>\n",
       "      <th>75%</th>\n",
       "      <td>48.045700</td>\n",
       "      <td>100.883300</td>\n",
       "      <td>27.120000</td>\n",
       "      <td>86.000000</td>\n",
       "      <td>97.000000</td>\n",
       "      <td>5.000000</td>\n",
       "      <td>1.627783e+09</td>\n",
       "    </tr>\n",
       "    <tr>\n",
       "      <th>max</th>\n",
       "      <td>78.218600</td>\n",
       "      <td>179.316700</td>\n",
       "      <td>36.560000</td>\n",
       "      <td>100.000000</td>\n",
       "      <td>100.000000</td>\n",
       "      <td>13.370000</td>\n",
       "      <td>1.627783e+09</td>\n",
       "    </tr>\n",
       "  </tbody>\n",
       "</table>\n",
       "</div>"
      ],
      "text/plain": [
       "              Lat         Lon    max_temp    Humidity  Cloudiness  Wind Speed  \\\n",
       "count  553.000000  553.000000  553.000000  553.000000  553.000000  553.000000   \n",
       "mean    19.646434   20.765173   20.660054   69.660036   55.754069    3.503183   \n",
       "std     33.161217   88.160054    7.699079   21.674473   39.929842    2.442498   \n",
       "min    -54.800000 -179.166700   -1.280000   14.000000    0.000000    0.000000   \n",
       "25%     -8.761900  -54.333300   14.900000   59.000000   11.000000    1.630000   \n",
       "50%     22.678300   23.539500   21.610000   74.000000   68.000000    2.870000   \n",
       "75%     48.045700  100.883300   27.120000   86.000000   97.000000    5.000000   \n",
       "max     78.218600  179.316700   36.560000  100.000000  100.000000   13.370000   \n",
       "\n",
       "               Date  \n",
       "count  5.530000e+02  \n",
       "mean   1.627783e+09  \n",
       "std    5.947669e+01  \n",
       "min    1.627782e+09  \n",
       "25%    1.627783e+09  \n",
       "50%    1.627783e+09  \n",
       "75%    1.627783e+09  \n",
       "max    1.627783e+09  "
      ]
     },
     "execution_count": 11,
     "metadata": {},
     "output_type": "execute_result"
    }
   ],
   "source": [
    "weather_df.describe()"
   ]
  },
  {
   "cell_type": "code",
   "execution_count": 12,
   "metadata": {},
   "outputs": [
    {
     "name": "stdout",
     "output_type": "stream",
     "text": [
      "<class 'pandas.core.frame.DataFrame'>\n",
      "RangeIndex: 609 entries, 0 to 608\n",
      "Data columns (total 9 columns):\n",
      " #   Column      Non-Null Count  Dtype  \n",
      "---  ------      --------------  -----  \n",
      " 0   city        553 non-null    object \n",
      " 1   Lat         553 non-null    float64\n",
      " 2   Lon         553 non-null    float64\n",
      " 3   max_temp    553 non-null    float64\n",
      " 4   Humidity    553 non-null    float64\n",
      " 5   Cloudiness  553 non-null    float64\n",
      " 6   Wind Speed  553 non-null    float64\n",
      " 7   Country     553 non-null    object \n",
      " 8   Date        553 non-null    float64\n",
      "dtypes: float64(7), object(2)\n",
      "memory usage: 42.9+ KB\n"
     ]
    }
   ],
   "source": [
    "weather_df.info()"
   ]
  },
  {
   "cell_type": "code",
   "execution_count": null,
   "metadata": {},
   "outputs": [],
   "source": []
  },
  {
   "cell_type": "markdown",
   "metadata": {},
   "source": [
    "## Inspect the data and remove the cities where the humidity > 100%.\n",
    "----\n",
    "Skip this step if there are no cities that have humidity > 100%. "
   ]
  },
  {
   "cell_type": "code",
   "execution_count": 13,
   "metadata": {},
   "outputs": [
    {
     "data": {
      "text/html": [
       "<div>\n",
       "<style scoped>\n",
       "    .dataframe tbody tr th:only-of-type {\n",
       "        vertical-align: middle;\n",
       "    }\n",
       "\n",
       "    .dataframe tbody tr th {\n",
       "        vertical-align: top;\n",
       "    }\n",
       "\n",
       "    .dataframe thead th {\n",
       "        text-align: right;\n",
       "    }\n",
       "</style>\n",
       "<table border=\"1\" class=\"dataframe\">\n",
       "  <thead>\n",
       "    <tr style=\"text-align: right;\">\n",
       "      <th></th>\n",
       "      <th>index</th>\n",
       "      <th>city</th>\n",
       "      <th>Lat</th>\n",
       "      <th>Lon</th>\n",
       "      <th>max_temp</th>\n",
       "      <th>Humidity</th>\n",
       "      <th>Cloudiness</th>\n",
       "      <th>Wind Speed</th>\n",
       "      <th>Country</th>\n",
       "      <th>Date</th>\n",
       "    </tr>\n",
       "  </thead>\n",
       "  <tbody>\n",
       "    <tr>\n",
       "      <th>0</th>\n",
       "      <td>202</td>\n",
       "      <td>Baharly</td>\n",
       "      <td>38.4362</td>\n",
       "      <td>57.4316</td>\n",
       "      <td>25.76</td>\n",
       "      <td>14.0</td>\n",
       "      <td>10.0</td>\n",
       "      <td>1.88</td>\n",
       "      <td>TM</td>\n",
       "      <td>1.627783e+09</td>\n",
       "    </tr>\n",
       "    <tr>\n",
       "      <th>1</th>\n",
       "      <td>226</td>\n",
       "      <td>Agadez</td>\n",
       "      <td>19.7500</td>\n",
       "      <td>10.2500</td>\n",
       "      <td>31.38</td>\n",
       "      <td>14.0</td>\n",
       "      <td>6.0</td>\n",
       "      <td>4.43</td>\n",
       "      <td>NE</td>\n",
       "      <td>1.627783e+09</td>\n",
       "    </tr>\n",
       "    <tr>\n",
       "      <th>2</th>\n",
       "      <td>121</td>\n",
       "      <td>Riyadh</td>\n",
       "      <td>24.6877</td>\n",
       "      <td>46.7219</td>\n",
       "      <td>32.08</td>\n",
       "      <td>15.0</td>\n",
       "      <td>54.0</td>\n",
       "      <td>2.97</td>\n",
       "      <td>SA</td>\n",
       "      <td>1.627782e+09</td>\n",
       "    </tr>\n",
       "    <tr>\n",
       "      <th>3</th>\n",
       "      <td>587</td>\n",
       "      <td>Shubarshi</td>\n",
       "      <td>48.5872</td>\n",
       "      <td>57.1869</td>\n",
       "      <td>24.89</td>\n",
       "      <td>16.0</td>\n",
       "      <td>0.0</td>\n",
       "      <td>1.26</td>\n",
       "      <td>KZ</td>\n",
       "      <td>1.627783e+09</td>\n",
       "    </tr>\n",
       "    <tr>\n",
       "      <th>4</th>\n",
       "      <td>219</td>\n",
       "      <td>Sabha</td>\n",
       "      <td>27.0377</td>\n",
       "      <td>14.4283</td>\n",
       "      <td>29.20</td>\n",
       "      <td>16.0</td>\n",
       "      <td>0.0</td>\n",
       "      <td>4.01</td>\n",
       "      <td>LY</td>\n",
       "      <td>1.627783e+09</td>\n",
       "    </tr>\n",
       "  </tbody>\n",
       "</table>\n",
       "</div>"
      ],
      "text/plain": [
       "   index       city      Lat      Lon  max_temp  Humidity  Cloudiness  \\\n",
       "0    202    Baharly  38.4362  57.4316     25.76      14.0        10.0   \n",
       "1    226     Agadez  19.7500  10.2500     31.38      14.0         6.0   \n",
       "2    121     Riyadh  24.6877  46.7219     32.08      15.0        54.0   \n",
       "3    587  Shubarshi  48.5872  57.1869     24.89      16.0         0.0   \n",
       "4    219      Sabha  27.0377  14.4283     29.20      16.0         0.0   \n",
       "\n",
       "   Wind Speed Country          Date  \n",
       "0        1.88      TM  1.627783e+09  \n",
       "1        4.43      NE  1.627783e+09  \n",
       "2        2.97      SA  1.627782e+09  \n",
       "3        1.26      KZ  1.627783e+09  \n",
       "4        4.01      LY  1.627783e+09  "
      ]
     },
     "execution_count": 13,
     "metadata": {},
     "output_type": "execute_result"
    }
   ],
   "source": [
    " #  Get the indices of cities that have humidity over 100%.\n",
    "weather_df.loc[weather_df[\"Humidity\"] > 100]\n",
    "clean_city_data = weather_df.sort_values(\"Humidity\").reset_index(drop=False)\n",
    "clean_city_data.head()"
   ]
  },
  {
   "cell_type": "code",
   "execution_count": 14,
   "metadata": {},
   "outputs": [
    {
     "data": {
      "text/html": [
       "<div>\n",
       "<style scoped>\n",
       "    .dataframe tbody tr th:only-of-type {\n",
       "        vertical-align: middle;\n",
       "    }\n",
       "\n",
       "    .dataframe tbody tr th {\n",
       "        vertical-align: top;\n",
       "    }\n",
       "\n",
       "    .dataframe thead th {\n",
       "        text-align: right;\n",
       "    }\n",
       "</style>\n",
       "<table border=\"1\" class=\"dataframe\">\n",
       "  <thead>\n",
       "    <tr style=\"text-align: right;\">\n",
       "      <th></th>\n",
       "      <th>index</th>\n",
       "      <th>city</th>\n",
       "      <th>Lat</th>\n",
       "      <th>Lon</th>\n",
       "      <th>max_temp</th>\n",
       "      <th>Humidity</th>\n",
       "      <th>Cloudiness</th>\n",
       "      <th>Wind Speed</th>\n",
       "      <th>Country</th>\n",
       "      <th>Date</th>\n",
       "    </tr>\n",
       "  </thead>\n",
       "  <tbody>\n",
       "    <tr>\n",
       "      <th>0</th>\n",
       "      <td>202</td>\n",
       "      <td>Baharly</td>\n",
       "      <td>38.4362</td>\n",
       "      <td>57.4316</td>\n",
       "      <td>25.76</td>\n",
       "      <td>14.0</td>\n",
       "      <td>10.0</td>\n",
       "      <td>1.88</td>\n",
       "      <td>TM</td>\n",
       "      <td>1.627783e+09</td>\n",
       "    </tr>\n",
       "    <tr>\n",
       "      <th>1</th>\n",
       "      <td>226</td>\n",
       "      <td>Agadez</td>\n",
       "      <td>19.7500</td>\n",
       "      <td>10.2500</td>\n",
       "      <td>31.38</td>\n",
       "      <td>14.0</td>\n",
       "      <td>6.0</td>\n",
       "      <td>4.43</td>\n",
       "      <td>NE</td>\n",
       "      <td>1.627783e+09</td>\n",
       "    </tr>\n",
       "    <tr>\n",
       "      <th>2</th>\n",
       "      <td>121</td>\n",
       "      <td>Riyadh</td>\n",
       "      <td>24.6877</td>\n",
       "      <td>46.7219</td>\n",
       "      <td>32.08</td>\n",
       "      <td>15.0</td>\n",
       "      <td>54.0</td>\n",
       "      <td>2.97</td>\n",
       "      <td>SA</td>\n",
       "      <td>1.627782e+09</td>\n",
       "    </tr>\n",
       "    <tr>\n",
       "      <th>3</th>\n",
       "      <td>587</td>\n",
       "      <td>Shubarshi</td>\n",
       "      <td>48.5872</td>\n",
       "      <td>57.1869</td>\n",
       "      <td>24.89</td>\n",
       "      <td>16.0</td>\n",
       "      <td>0.0</td>\n",
       "      <td>1.26</td>\n",
       "      <td>KZ</td>\n",
       "      <td>1.627783e+09</td>\n",
       "    </tr>\n",
       "    <tr>\n",
       "      <th>4</th>\n",
       "      <td>219</td>\n",
       "      <td>Sabha</td>\n",
       "      <td>27.0377</td>\n",
       "      <td>14.4283</td>\n",
       "      <td>29.20</td>\n",
       "      <td>16.0</td>\n",
       "      <td>0.0</td>\n",
       "      <td>4.01</td>\n",
       "      <td>LY</td>\n",
       "      <td>1.627783e+09</td>\n",
       "    </tr>\n",
       "    <tr>\n",
       "      <th>...</th>\n",
       "      <td>...</td>\n",
       "      <td>...</td>\n",
       "      <td>...</td>\n",
       "      <td>...</td>\n",
       "      <td>...</td>\n",
       "      <td>...</td>\n",
       "      <td>...</td>\n",
       "      <td>...</td>\n",
       "      <td>...</td>\n",
       "      <td>...</td>\n",
       "    </tr>\n",
       "    <tr>\n",
       "      <th>548</th>\n",
       "      <td>476</td>\n",
       "      <td>Gunjur</td>\n",
       "      <td>13.2019</td>\n",
       "      <td>-16.7339</td>\n",
       "      <td>23.04</td>\n",
       "      <td>100.0</td>\n",
       "      <td>75.0</td>\n",
       "      <td>0.00</td>\n",
       "      <td>GM</td>\n",
       "      <td>1.627783e+09</td>\n",
       "    </tr>\n",
       "    <tr>\n",
       "      <th>549</th>\n",
       "      <td>323</td>\n",
       "      <td>Visby</td>\n",
       "      <td>57.6409</td>\n",
       "      <td>18.2960</td>\n",
       "      <td>16.03</td>\n",
       "      <td>100.0</td>\n",
       "      <td>90.0</td>\n",
       "      <td>2.06</td>\n",
       "      <td>SE</td>\n",
       "      <td>1.627783e+09</td>\n",
       "    </tr>\n",
       "    <tr>\n",
       "      <th>550</th>\n",
       "      <td>230</td>\n",
       "      <td>Santa Rita</td>\n",
       "      <td>-7.1139</td>\n",
       "      <td>-34.9781</td>\n",
       "      <td>22.37</td>\n",
       "      <td>100.0</td>\n",
       "      <td>75.0</td>\n",
       "      <td>2.57</td>\n",
       "      <td>BR</td>\n",
       "      <td>1.627783e+09</td>\n",
       "    </tr>\n",
       "    <tr>\n",
       "      <th>551</th>\n",
       "      <td>2</td>\n",
       "      <td>Dikson</td>\n",
       "      <td>73.5069</td>\n",
       "      <td>80.5464</td>\n",
       "      <td>4.40</td>\n",
       "      <td>100.0</td>\n",
       "      <td>100.0</td>\n",
       "      <td>7.22</td>\n",
       "      <td>RU</td>\n",
       "      <td>1.627783e+09</td>\n",
       "    </tr>\n",
       "    <tr>\n",
       "      <th>552</th>\n",
       "      <td>267</td>\n",
       "      <td>Salalah</td>\n",
       "      <td>17.0151</td>\n",
       "      <td>54.0924</td>\n",
       "      <td>25.05</td>\n",
       "      <td>100.0</td>\n",
       "      <td>90.0</td>\n",
       "      <td>2.57</td>\n",
       "      <td>OM</td>\n",
       "      <td>1.627782e+09</td>\n",
       "    </tr>\n",
       "  </tbody>\n",
       "</table>\n",
       "<p>553 rows × 10 columns</p>\n",
       "</div>"
      ],
      "text/plain": [
       "     index        city      Lat      Lon  max_temp  Humidity  Cloudiness  \\\n",
       "0      202     Baharly  38.4362  57.4316     25.76      14.0        10.0   \n",
       "1      226      Agadez  19.7500  10.2500     31.38      14.0         6.0   \n",
       "2      121      Riyadh  24.6877  46.7219     32.08      15.0        54.0   \n",
       "3      587   Shubarshi  48.5872  57.1869     24.89      16.0         0.0   \n",
       "4      219       Sabha  27.0377  14.4283     29.20      16.0         0.0   \n",
       "..     ...         ...      ...      ...       ...       ...         ...   \n",
       "548    476      Gunjur  13.2019 -16.7339     23.04     100.0        75.0   \n",
       "549    323       Visby  57.6409  18.2960     16.03     100.0        90.0   \n",
       "550    230  Santa Rita  -7.1139 -34.9781     22.37     100.0        75.0   \n",
       "551      2      Dikson  73.5069  80.5464      4.40     100.0       100.0   \n",
       "552    267     Salalah  17.0151  54.0924     25.05     100.0        90.0   \n",
       "\n",
       "     Wind Speed Country          Date  \n",
       "0          1.88      TM  1.627783e+09  \n",
       "1          4.43      NE  1.627783e+09  \n",
       "2          2.97      SA  1.627782e+09  \n",
       "3          1.26      KZ  1.627783e+09  \n",
       "4          4.01      LY  1.627783e+09  \n",
       "..          ...     ...           ...  \n",
       "548        0.00      GM  1.627783e+09  \n",
       "549        2.06      SE  1.627783e+09  \n",
       "550        2.57      BR  1.627783e+09  \n",
       "551        7.22      RU  1.627783e+09  \n",
       "552        2.57      OM  1.627782e+09  \n",
       "\n",
       "[553 rows x 10 columns]"
      ]
     },
     "execution_count": 14,
     "metadata": {},
     "output_type": "execute_result"
    }
   ],
   "source": [
    "# Make a new DataFrame equal to the city data to drop all humidity outliers by index.\n",
    "# Passing \"inplace=False\" will make a copy of the city_data DataFrame, which we call \"clean_city_data\".\n",
    "clean_city_data.dropna(how='any',inplace=True)\n",
    "clean_city_data"
   ]
  },
  {
   "cell_type": "code",
   "execution_count": 15,
   "metadata": {},
   "outputs": [
    {
     "name": "stdout",
     "output_type": "stream",
     "text": [
      "<class 'pandas.core.frame.DataFrame'>\n",
      "Int64Index: 500 entries, 0 to 499\n",
      "Data columns (total 10 columns):\n",
      " #   Column      Non-Null Count  Dtype  \n",
      "---  ------      --------------  -----  \n",
      " 0   index       500 non-null    int64  \n",
      " 1   city        500 non-null    object \n",
      " 2   Lat         500 non-null    float64\n",
      " 3   Lon         500 non-null    float64\n",
      " 4   max_temp    500 non-null    float64\n",
      " 5   Humidity    500 non-null    float64\n",
      " 6   Cloudiness  500 non-null    float64\n",
      " 7   Wind Speed  500 non-null    float64\n",
      " 8   Country     500 non-null    object \n",
      " 9   Date        500 non-null    float64\n",
      "dtypes: float64(7), int64(1), object(2)\n",
      "memory usage: 43.0+ KB\n"
     ]
    }
   ],
   "source": [
    "clean_city_data=clean_city_data[:500]\n",
    "clean_city_data.info()"
   ]
  },
  {
   "cell_type": "code",
   "execution_count": 16,
   "metadata": {},
   "outputs": [],
   "source": [
    "clean_city_data.to_csv('../output_data/citiesApi.csv', index=False)\n"
   ]
  },
  {
   "cell_type": "code",
   "execution_count": 18,
   "metadata": {
    "scrolled": true
   },
   "outputs": [
    {
     "data": {
      "text/html": [
       "<div>\n",
       "<style scoped>\n",
       "    .dataframe tbody tr th:only-of-type {\n",
       "        vertical-align: middle;\n",
       "    }\n",
       "\n",
       "    .dataframe tbody tr th {\n",
       "        vertical-align: top;\n",
       "    }\n",
       "\n",
       "    .dataframe thead th {\n",
       "        text-align: right;\n",
       "    }\n",
       "</style>\n",
       "<table border=\"1\" class=\"dataframe\">\n",
       "  <thead>\n",
       "    <tr style=\"text-align: right;\">\n",
       "      <th></th>\n",
       "      <th>index</th>\n",
       "      <th>city</th>\n",
       "      <th>Lat</th>\n",
       "      <th>Lon</th>\n",
       "      <th>max_temp</th>\n",
       "      <th>Humidity</th>\n",
       "      <th>Cloudiness</th>\n",
       "      <th>Wind Speed</th>\n",
       "      <th>Country</th>\n",
       "      <th>Date</th>\n",
       "    </tr>\n",
       "  </thead>\n",
       "  <tbody>\n",
       "    <tr>\n",
       "      <th>495</th>\n",
       "      <td>380</td>\n",
       "      <td>Kalyazin</td>\n",
       "      <td>57.2403</td>\n",
       "      <td>37.8433</td>\n",
       "      <td>13.51</td>\n",
       "      <td>94.0</td>\n",
       "      <td>98.0</td>\n",
       "      <td>2.90</td>\n",
       "      <td>RU</td>\n",
       "      <td>1.627783e+09</td>\n",
       "    </tr>\n",
       "    <tr>\n",
       "      <th>496</th>\n",
       "      <td>125</td>\n",
       "      <td>San Nicolas</td>\n",
       "      <td>18.1725</td>\n",
       "      <td>120.5953</td>\n",
       "      <td>27.95</td>\n",
       "      <td>94.0</td>\n",
       "      <td>90.0</td>\n",
       "      <td>5.66</td>\n",
       "      <td>PH</td>\n",
       "      <td>1.627783e+09</td>\n",
       "    </tr>\n",
       "    <tr>\n",
       "      <th>497</th>\n",
       "      <td>306</td>\n",
       "      <td>Aasiaat</td>\n",
       "      <td>68.7098</td>\n",
       "      <td>-52.8699</td>\n",
       "      <td>4.11</td>\n",
       "      <td>94.0</td>\n",
       "      <td>100.0</td>\n",
       "      <td>2.96</td>\n",
       "      <td>GL</td>\n",
       "      <td>1.627783e+09</td>\n",
       "    </tr>\n",
       "    <tr>\n",
       "      <th>498</th>\n",
       "      <td>400</td>\n",
       "      <td>Arrondissement de Thionville</td>\n",
       "      <td>49.3333</td>\n",
       "      <td>6.3333</td>\n",
       "      <td>14.94</td>\n",
       "      <td>94.0</td>\n",
       "      <td>100.0</td>\n",
       "      <td>1.23</td>\n",
       "      <td>FR</td>\n",
       "      <td>1.627783e+09</td>\n",
       "    </tr>\n",
       "    <tr>\n",
       "      <th>499</th>\n",
       "      <td>492</td>\n",
       "      <td>La Asuncion</td>\n",
       "      <td>11.0333</td>\n",
       "      <td>-63.8628</td>\n",
       "      <td>26.85</td>\n",
       "      <td>94.0</td>\n",
       "      <td>75.0</td>\n",
       "      <td>5.14</td>\n",
       "      <td>VE</td>\n",
       "      <td>1.627783e+09</td>\n",
       "    </tr>\n",
       "  </tbody>\n",
       "</table>\n",
       "</div>"
      ],
      "text/plain": [
       "     index                          city      Lat       Lon  max_temp  \\\n",
       "495    380                      Kalyazin  57.2403   37.8433     13.51   \n",
       "496    125                   San Nicolas  18.1725  120.5953     27.95   \n",
       "497    306                       Aasiaat  68.7098  -52.8699      4.11   \n",
       "498    400  Arrondissement de Thionville  49.3333    6.3333     14.94   \n",
       "499    492                   La Asuncion  11.0333  -63.8628     26.85   \n",
       "\n",
       "     Humidity  Cloudiness  Wind Speed Country          Date  \n",
       "495      94.0        98.0        2.90      RU  1.627783e+09  \n",
       "496      94.0        90.0        5.66      PH  1.627783e+09  \n",
       "497      94.0       100.0        2.96      GL  1.627783e+09  \n",
       "498      94.0       100.0        1.23      FR  1.627783e+09  \n",
       "499      94.0        75.0        5.14      VE  1.627783e+09  "
      ]
     },
     "execution_count": 18,
     "metadata": {},
     "output_type": "execute_result"
    }
   ],
   "source": [
    "clean_city_data.tail()"
   ]
  },
  {
   "cell_type": "code",
   "execution_count": null,
   "metadata": {},
   "outputs": [],
   "source": []
  },
  {
   "cell_type": "markdown",
   "metadata": {},
   "source": [
    "## Plotting the Data\n",
    "* Use proper labeling of the plots using plot titles (including date of analysis) and axes labels.\n",
    "* Save the plotted figures as .pngs."
   ]
  },
  {
   "cell_type": "markdown",
   "metadata": {},
   "source": [
    "## Latitude vs. Temperature Plot"
   ]
  },
  {
   "cell_type": "code",
   "execution_count": 19,
   "metadata": {
    "scrolled": true
   },
   "outputs": [
    {
     "data": {
      "image/png": "[encoded data removed]",
      "text/plain": [
       "<Figure size 360x360 with 1 Axes>"
      ]
     },
     "metadata": {
      "needs_background": "light"
     },
     "output_type": "display_data"
    }
   ],
   "source": [
    "plt.figure(figsize=(5,5))\n",
    "plt.scatter(clean_city_data['Lat'],clean_city_data['max_temp'])\n",
    "plt.xlabel(\"Lat\")\n",
    "plt.ylabel(\"max_temp\")\n",
    "plt.grid()\n",
    "plt.title(\"Latitude vs. Temperature Plot\")\n",
    "\n",
    "plt.tight_layout()\n",
    "\n",
    "plt.show()"
   ]
  },
  {
   "cell_type": "markdown",
   "metadata": {},
   "source": [
    "## Latitude vs. Humidity Plot"
   ]
  },
  {
   "cell_type": "code",
   "execution_count": 20,
   "metadata": {},
   "outputs": [
    {
     "data": {
      "image/png": "[encoded data removed]",
      "text/plain": [
       "<Figure size 432x432 with 1 Axes>"
      ]
     },
     "metadata": {
      "needs_background": "light"
     },
     "output_type": "display_data"
    }
   ],
   "source": [
    "plt.figure(figsize=(6,6))\n",
    "plt.scatter(clean_city_data['Lat'],clean_city_data['Humidity'])\n",
    "plt.xlabel(\"Lat\")\n",
    "plt.ylabel(\"Humidity\")\n",
    "plt.title(\"Latitude vs. Humidity Plot\")\n",
    "plt.grid()\n",
    "plt.tight_layout()\n",
    "plt.show()"
   ]
  },
  {
   "cell_type": "markdown",
   "metadata": {},
   "source": [
    "## Latitude vs. Cloudiness Plot"
   ]
  },
  {
   "cell_type": "code",
   "execution_count": 21,
   "metadata": {},
   "outputs": [
    {
     "data": {
      "image/png": "[encoded data removed]",
      "text/plain": [
       "<Figure size 432x432 with 1 Axes>"
      ]
     },
     "metadata": {
      "needs_background": "light"
     },
     "output_type": "display_data"
    }
   ],
   "source": [
    "plt.figure(figsize=(6,6))\n",
    "plt.scatter(clean_city_data['Lat'],clean_city_data['Cloudiness'])\n",
    "plt.xlabel(\"Lat\")\n",
    "plt.ylabel(\"Cloudiness\")\n",
    "plt.title(\"Latitude vs. Cloudiness Plot\")\n",
    "plt.grid()\n",
    "plt.tight_layout()\n",
    "\n",
    "plt.show()"
   ]
  },
  {
   "cell_type": "markdown",
   "metadata": {},
   "source": [
    "## Latitude vs. Wind Speed Plot"
   ]
  },
  {
   "cell_type": "code",
   "execution_count": 22,
   "metadata": {},
   "outputs": [
    {
     "data": {
      "image/png": "[encoded data removed]",
      "text/plain": [
       "<Figure size 432x432 with 1 Axes>"
      ]
     },
     "metadata": {
      "needs_background": "light"
     },
     "output_type": "display_data"
    }
   ],
   "source": [
    "plt.figure(figsize=(6,6))\n",
    "plt.scatter(clean_city_data['Lat'],clean_city_data['Wind Speed'])\n",
    "plt.xlabel(\"Lat\")\n",
    "plt.ylabel(\"Wind Speed\")\n",
    "plt.grid()\n",
    "plt.title(\"Latitude vs. Wind Speed\")\n",
    "\n",
    "plt.yticks([0,3,6,9,12,15])\n",
    "plt.xticks([-60,-45,-30,0,30,45,60,90])\n",
    "plt.tight_layout()\n",
    "\n",
    "plt.show()"
   ]
  },
  {
   "cell_type": "markdown",
   "metadata": {},
   "source": [
    "## Linear Regression"
   ]
  },
  {
   "cell_type": "code",
   "execution_count": 23,
   "metadata": {
    "scrolled": true
   },
   "outputs": [
    {
     "name": "stdout",
     "output_type": "stream",
     "text": [
      "<class 'pandas.core.frame.DataFrame'>\n",
      "RangeIndex: 335 entries, 0 to 334\n",
      "Data columns (total 11 columns):\n",
      " #   Column      Non-Null Count  Dtype  \n",
      "---  ------      --------------  -----  \n",
      " 0   level_0     335 non-null    int64  \n",
      " 1   index       335 non-null    int64  \n",
      " 2   city        335 non-null    object \n",
      " 3   Lat         335 non-null    float64\n",
      " 4   Lon         335 non-null    float64\n",
      " 5   max_temp    335 non-null    float64\n",
      " 6   Humidity    335 non-null    float64\n",
      " 7   Cloudiness  335 non-null    float64\n",
      " 8   Wind Speed  335 non-null    float64\n",
      " 9   Country     335 non-null    object \n",
      " 10  Date        335 non-null    float64\n",
      "dtypes: float64(7), int64(2), object(2)\n",
      "memory usage: 28.9+ KB\n"
     ]
    }
   ],
   "source": [
    "Northern_city_data=clean_city_data.loc[clean_city_data[\"Lat\"] > 0]\n",
    "Northern_city_data = Northern_city_data.sort_values(\"Lat\").reset_index(drop=False)\n",
    "Northern_city_data.head()\n",
    "Northern_city_data.info()"
   ]
  },
  {
   "cell_type": "code",
   "execution_count": 24,
   "metadata": {},
   "outputs": [
    {
     "name": "stdout",
     "output_type": "stream",
     "text": [
      "<class 'pandas.core.frame.DataFrame'>\n",
      "RangeIndex: 165 entries, 0 to 164\n",
      "Data columns (total 11 columns):\n",
      " #   Column      Non-Null Count  Dtype  \n",
      "---  ------      --------------  -----  \n",
      " 0   level_0     165 non-null    int64  \n",
      " 1   index       165 non-null    int64  \n",
      " 2   city        165 non-null    object \n",
      " 3   Lat         165 non-null    float64\n",
      " 4   Lon         165 non-null    float64\n",
      " 5   max_temp    165 non-null    float64\n",
      " 6   Humidity    165 non-null    float64\n",
      " 7   Cloudiness  165 non-null    float64\n",
      " 8   Wind Speed  165 non-null    float64\n",
      " 9   Country     165 non-null    object \n",
      " 10  Date        165 non-null    float64\n",
      "dtypes: float64(7), int64(2), object(2)\n",
      "memory usage: 14.3+ KB\n"
     ]
    }
   ],
   "source": [
    "Southern_city_data=clean_city_data.loc[clean_city_data[\"Lat\"] < 0]\n",
    "Southern_city_data = Southern_city_data.sort_values(\"Lat\").reset_index(drop=False)\n",
    "Southern_city_data.info()\n"
   ]
  },
  {
   "cell_type": "markdown",
   "metadata": {},
   "source": [
    "####  Northern Hemisphere - Max Temp vs. Latitude Linear Regression"
   ]
  },
  {
   "cell_type": "code",
   "execution_count": 42,
   "metadata": {
    "scrolled": true
   },
   "outputs": [
    {
     "ename": "NameError",
     "evalue": "name 'plot_linear_regression' is not defined",
     "output_type": "error",
     "traceback": [
      "\u001b[1;31m---------------------------------------------------------------------------\u001b[0m",
      "\u001b[1;31mNameError\u001b[0m                                 Traceback (most recent call last)",
      "\u001b[1;32m<ipython-input-42-d8ca4211851d>\u001b[0m in \u001b[0;36m<module>\u001b[1;34m\u001b[0m\n\u001b[0;32m      1\u001b[0m \u001b[0mx_values\u001b[0m \u001b[1;33m=\u001b[0m \u001b[0mSouthern_city_data\u001b[0m\u001b[1;33m[\u001b[0m\u001b[1;34m\"Lat\"\u001b[0m\u001b[1;33m]\u001b[0m\u001b[1;33m\u001b[0m\u001b[1;33m\u001b[0m\u001b[0m\n\u001b[0;32m      2\u001b[0m \u001b[0my_values\u001b[0m \u001b[1;33m=\u001b[0m \u001b[0mSouthern_city_data\u001b[0m\u001b[1;33m[\u001b[0m\u001b[1;34m\"max_temp\"\u001b[0m\u001b[1;33m]\u001b[0m\u001b[1;33m\u001b[0m\u001b[1;33m\u001b[0m\u001b[0m\n\u001b[1;32m----> 3\u001b[1;33m \u001b[0mplot_linear_regression\u001b[0m\u001b[1;33m(\u001b[0m\u001b[0mx_values\u001b[0m\u001b[1;33m,\u001b[0m \u001b[0my_values\u001b[0m\u001b[1;33m,\u001b[0m \u001b[1;34m'max_temp'\u001b[0m\u001b[1;33m,\u001b[0m\u001b[1;33m(\u001b[0m\u001b[1;36m6\u001b[0m\u001b[1;33m,\u001b[0m\u001b[1;36m30\u001b[0m\u001b[1;33m)\u001b[0m\u001b[1;33m)\u001b[0m\u001b[1;33m\u001b[0m\u001b[1;33m\u001b[0m\u001b[0m\n\u001b[0m",
      "\u001b[1;31mNameError\u001b[0m: name 'plot_linear_regression' is not defined"
     ]
    }
   ],
   "source": [
    "x_values = Southern_city_data[\"Lat\"]\n",
    "y_values = Southern_city_data[\"max_temp\"]\n",
    "plot_linear_regression(x_values, y_values, 'max_temp',(6,30))\n"
   ]
  },
  {
   "cell_type": "code",
   "execution_count": 25,
   "metadata": {},
   "outputs": [
    {
     "name": "stdout",
     "output_type": "stream",
     "text": [
      "-0.64463473862719\n"
     ]
    },
    {
     "data": {
      "text/plain": [
       "<Figure size 576x576 with 0 Axes>"
      ]
     },
     "metadata": {},
     "output_type": "display_data"
    },
    {
     "data": {
      "image/png": "[encoded data removed]",
      "text/plain": [
       "<Figure size 432x288 with 1 Axes>"
      ]
     },
     "metadata": {
      "needs_background": "light"
     },
     "output_type": "display_data"
    }
   ],
   "source": [
    "slope, intercept, r, p, se = linregress(Northern_city_data[\"Lat\"],Northern_city_data[\"max_temp\"])\n",
    "print(r)\n",
    "plt.figure(figsize=(8,8))\n",
    "\n",
    "Northern_city_data.plot(kind=\"scatter\", x=\"Lat\", y=\"max_temp\")\n",
    "plt.xlabel('Latitude')\n",
    "plt.ylabel('Maximum Temperature')\n",
    "\n",
    "regress_values = Northern_city_data[\"Lat\"] * slope + intercept\n",
    "plt.plot(Northern_city_data[\"Lat\"],regress_values,\"r-\")\n",
    "\n",
    "line_eq = \"y = \" + str(round(slope,2)) + \"x + \" + str(round(intercept,2))\n",
    "plt.annotate(line_eq,(6,10),fontsize=15,color=\"red\")\n",
    "plt.title(\"Northern Hemisphere - Max Temp vs. Latitude Linear Regression\")\n",
    "\n",
    "plt.show()\n"
   ]
  },
  {
   "cell_type": "markdown",
   "metadata": {},
   "source": [
    "####  Southern Hemisphere - Max Temp vs. Latitude Linear Regression"
   ]
  },
  {
   "cell_type": "code",
   "execution_count": null,
   "metadata": {},
   "outputs": [],
   "source": []
  },
  {
   "cell_type": "code",
   "execution_count": 43,
   "metadata": {},
   "outputs": [
    {
     "name": "stdout",
     "output_type": "stream",
     "text": [
      "0.7408975986047626\n"
     ]
    },
    {
     "ename": "NameError",
     "evalue": "name 'plot_linear_regression' is not defined",
     "output_type": "error",
     "traceback": [
      "\u001b[1;31m---------------------------------------------------------------------------\u001b[0m",
      "\u001b[1;31mNameError\u001b[0m                                 Traceback (most recent call last)",
      "\u001b[1;32m<ipython-input-43-37775f4dbb79>\u001b[0m in \u001b[0;36m<module>\u001b[1;34m\u001b[0m\n\u001b[0;32m     14\u001b[0m \u001b[0mx_values\u001b[0m \u001b[1;33m=\u001b[0m \u001b[0mSouthern_city_data\u001b[0m\u001b[1;33m[\u001b[0m\u001b[1;34m\"Lat\"\u001b[0m\u001b[1;33m]\u001b[0m\u001b[1;33m\u001b[0m\u001b[1;33m\u001b[0m\u001b[0m\n\u001b[0;32m     15\u001b[0m \u001b[0my_values\u001b[0m \u001b[1;33m=\u001b[0m \u001b[0mSouthern_city_data\u001b[0m\u001b[1;33m[\u001b[0m\u001b[1;34m\"max_temp\"\u001b[0m\u001b[1;33m]\u001b[0m\u001b[1;33m\u001b[0m\u001b[1;33m\u001b[0m\u001b[0m\n\u001b[1;32m---> 16\u001b[1;33m \u001b[0mplot_linear_regression\u001b[0m\u001b[1;33m(\u001b[0m\u001b[0mx_values\u001b[0m\u001b[1;33m,\u001b[0m \u001b[0my_values\u001b[0m\u001b[1;33m,\u001b[0m \u001b[1;34m'max_temp'\u001b[0m\u001b[1;33m,\u001b[0m\u001b[1;33m(\u001b[0m\u001b[1;36m6\u001b[0m\u001b[1;33m,\u001b[0m\u001b[1;36m30\u001b[0m\u001b[1;33m)\u001b[0m\u001b[1;33m)\u001b[0m\u001b[1;33m\u001b[0m\u001b[1;33m\u001b[0m\u001b[0m\n\u001b[0m\u001b[0;32m     17\u001b[0m \u001b[1;33m\u001b[0m\u001b[0m\n\u001b[0;32m     18\u001b[0m \u001b[0mplt\u001b[0m\u001b[1;33m.\u001b[0m\u001b[0mtitle\u001b[0m\u001b[1;33m(\u001b[0m\u001b[1;34m\"Southern Hemisphere - Max Temp vs. Latitude Linear Regression\"\u001b[0m\u001b[1;33m)\u001b[0m\u001b[1;33m\u001b[0m\u001b[1;33m\u001b[0m\u001b[0m\n",
      "\u001b[1;31mNameError\u001b[0m: name 'plot_linear_regression' is not defined"
     ]
    },
    {
     "data": {
      "text/plain": [
       "<Figure size 576x576 with 0 Axes>"
      ]
     },
     "metadata": {},
     "output_type": "display_data"
    },
    {
     "data": {
      "image/png": "[encoded data removed]",
      "text/plain": [
       "<Figure size 432x288 with 1 Axes>"
      ]
     },
     "metadata": {
      "needs_background": "light"
     },
     "output_type": "display_data"
    }
   ],
   "source": [
    "slope, intercept, r, p, se = linregress(Southern_city_data[\"Lat\"],Southern_city_data[\"max_temp\"])\n",
    "print(r)\n",
    "plt.figure(figsize=(8,8))\n",
    "\n",
    "Southern_city_data.plot(kind=\"scatter\", x=\"Lat\", y=\"max_temp\")\n",
    "plt.xlabel('Latitude')\n",
    "plt.ylabel('Maximum Temperature')\n",
    "\n",
    "regress_values = Southern_city_data[\"Lat\"] * slope + intercept\n",
    "plt.plot(Southern_city_data[\"Lat\"],regress_values,\"r-\")\n",
    "\n",
    "#line_eq = \"y = \" + str(round(slope,2)) + \"x + \" + str(round(intercept,2))\n",
    "#plt.annotate(line_eq,(6,10),fontsize=15,color=\"red\")\n",
    "x_values = Southern_city_data[\"Lat\"]\n",
    "y_values = Southern_city_data[\"max_temp\"]\n",
    "plot_linear_regression(x_values, y_values, 'max_temp',(6,30))\n",
    "\n",
    "plt.title(\"Southern Hemisphere - Max Temp vs. Latitude Linear Regression\")\n",
    "plt.show()\n"
   ]
  },
  {
   "cell_type": "markdown",
   "metadata": {},
   "source": [
    "####  Northern Hemisphere - Humidity (%) vs. Latitude Linear Regression"
   ]
  },
  {
   "cell_type": "code",
   "execution_count": 27,
   "metadata": {},
   "outputs": [
    {
     "name": "stdout",
     "output_type": "stream",
     "text": [
      "-0.10182742745202221\n"
     ]
    },
    {
     "data": {
      "text/plain": [
       "<Figure size 576x576 with 0 Axes>"
      ]
     },
     "metadata": {},
     "output_type": "display_data"
    },
    {
     "data": {
      "image/png": "[encoded data removed]",
      "text/plain": [
       "<Figure size 432x288 with 1 Axes>"
      ]
     },
     "metadata": {
      "needs_background": "light"
     },
     "output_type": "display_data"
    }
   ],
   "source": [
    "\n",
    "slope, intercept, r, p, se = linregress(Northern_city_data[\"Lat\"],Northern_city_data[\"Humidity\"])\n",
    "print(r)\n",
    "plt.figure(figsize=(8,8))\n",
    "\n",
    "Northern_city_data.plot(kind=\"scatter\", x=\"Lat\", y=\"Humidity\")\n",
    "plt.xlabel('Latitude')\n",
    "plt.ylabel('Humidity')\n",
    "\n",
    "regress_values = Northern_city_data[\"Lat\"] * slope + intercept\n",
    "plt.plot(Northern_city_data[\"Lat\"],regress_values,\"r-\")\n",
    "\n",
    "line_eq = \"y = \" + str(round(slope,2)) + \"x + \" + str(round(intercept,2))\n",
    "plt.annotate(line_eq,(6,10),fontsize=15,color=\"red\")\n",
    "plt.title(\"Northern Hemisphere - Max Temp vs. Humidity Line Regression\")\n",
    "\n",
    "plt.show()\n"
   ]
  },
  {
   "cell_type": "markdown",
   "metadata": {},
   "source": [
    "####  Southern Hemisphere - Humidity (%) vs. Latitude Linear Regression"
   ]
  },
  {
   "cell_type": "code",
   "execution_count": 35,
   "metadata": {},
   "outputs": [
    {
     "name": "stdout",
     "output_type": "stream",
     "text": [
      "-0.0029546020080714495\n"
     ]
    },
    {
     "data": {
      "text/plain": [
       "<Figure size 576x576 with 0 Axes>"
      ]
     },
     "metadata": {},
     "output_type": "display_data"
    },
    {
     "data": {
      "image/png": "[encoded data removed]",
      "text/plain": [
       "<Figure size 432x288 with 1 Axes>"
      ]
     },
     "metadata": {
      "needs_background": "light"
     },
     "output_type": "display_data"
    }
   ],
   "source": [
    "\n",
    "slope, intercept, r, p, se = linregress(Southern_city_data[\"Lat\"],Southern_city_data[\"Humidity\"])\n",
    "print(r)\n",
    "plt.figure(figsize=(8,8))\n",
    "\n",
    "Southern_city_data.plot(kind=\"scatter\", x=\"Lat\", y=\"Humidity\")\n",
    "plt.xlabel('Latitude')\n",
    "plt.ylabel('Humidity')\n",
    "\n",
    "regress_values = Southern_city_data[\"Lat\"] * slope + intercept\n",
    "plt.plot(Southern_city_data[\"Lat\"],regress_values,\"r-\")\n",
    "\n",
    "line_eq = \"y = \" + str(round(slope,2)) + \"x + \" + str(round(intercept,2))\n",
    "plt.annotate(line_eq,(6,10),fontsize=15,color=\"red\")\n",
    "\n",
    "plt.title(\"Southern Hemisphere - Max Temp vs. Humidity Line Regression\")\n",
    "\n",
    "plt.show()\n"
   ]
  },
  {
   "cell_type": "markdown",
   "metadata": {},
   "source": [
    "####  Northern Hemisphere - Cloudiness (%) vs. Latitude Linear Regression"
   ]
  },
  {
   "cell_type": "code",
   "execution_count": 33,
   "metadata": {},
   "outputs": [
    {
     "name": "stdout",
     "output_type": "stream",
     "text": [
      "0.018748708336683614\n"
     ]
    },
    {
     "data": {
      "text/plain": [
       "<Figure size 576x576 with 0 Axes>"
      ]
     },
     "metadata": {},
     "output_type": "display_data"
    },
    {
     "data": {
      "image/png": "[encoded data removed]",
      "text/plain": [
       "<Figure size 432x288 with 1 Axes>"
      ]
     },
     "metadata": {
      "needs_background": "light"
     },
     "output_type": "display_data"
    }
   ],
   "source": [
    "slope, intercept, r, p, se = linregress(Northern_city_data[\"Lat\"],Northern_city_data[\"Cloudiness\"])\n",
    "print(r)\n",
    "plt.figure(figsize=(8,8))\n",
    "\n",
    "Northern_city_data.plot(kind=\"scatter\", x=\"Lat\", y=\"Cloudiness\")\n",
    "plt.xlabel('Latitude')\n",
    "plt.ylabel('Cloudiness')\n",
    "\n",
    "regress_values = Northern_city_data[\"Lat\"] * slope + intercept\n",
    "plt.plot(Northern_city_data[\"Lat\"],regress_values,\"r-\")\n",
    "\n",
    "line_eq = \"y = \" + str(round(slope,2)) + \"x + \" + str(round(intercept,2))\n",
    "plt.annotate(line_eq,(6,10),fontsize=15,color=\"red\")\n",
    "plt.title(\"Northern Hemisphere - Max Temp vs. Cloudiness Linear Regression\")\n",
    "\n",
    "plt.show()\n"
   ]
  },
  {
   "cell_type": "markdown",
   "metadata": {},
   "source": [
    "####  Southern Hemisphere - Cloudiness (%) vs. Latitude Linear Regression"
   ]
  },
  {
   "cell_type": "code",
   "execution_count": 30,
   "metadata": {},
   "outputs": [
    {
     "name": "stdout",
     "output_type": "stream",
     "text": [
      "0.025251411991853538\n"
     ]
    },
    {
     "data": {
      "text/plain": [
       "<Figure size 576x576 with 0 Axes>"
      ]
     },
     "metadata": {},
     "output_type": "display_data"
    },
    {
     "data": {
      "image/png": "[encoded data removed]",
      "text/plain": [
       "<Figure size 432x288 with 1 Axes>"
      ]
     },
     "metadata": {
      "needs_background": "light"
     },
     "output_type": "display_data"
    }
   ],
   "source": [
    "slope, intercept, r, p, se = linregress(Southern_city_data[\"Lat\"],Southern_city_data[\"Cloudiness\"])\n",
    "print(r)\n",
    "plt.figure(figsize=(8,8))\n",
    "\n",
    "Southern_city_data.plot(kind=\"scatter\", x=\"Lat\", y=\"Cloudiness\")\n",
    "plt.xlabel('Latitude')\n",
    "plt.ylabel('Cloudiness')\n",
    "\n",
    "regress_values = Southern_city_data[\"Lat\"] * slope + intercept\n",
    "plt.plot(Southern_city_data[\"Lat\"],regress_values,\"r-\")\n",
    "\n",
    "line_eq = \"y = \" + str(round(slope,2)) + \"x + \" + str(round(intercept,2))\n",
    "plt.annotate(line_eq,(6,10),fontsize=15,color=\"red\")\n",
    "plt.title(\"Southern Hemisphere - Latitude vs. Cloudiness Line Regression\")\n",
    "\n",
    "plt.show()\n"
   ]
  },
  {
   "cell_type": "markdown",
   "metadata": {},
   "source": [
    "####  Northern Hemisphere - Wind Speed (mph) vs. Latitude Linear Regression"
   ]
  },
  {
   "cell_type": "code",
   "execution_count": 32,
   "metadata": {},
   "outputs": [
    {
     "name": "stdout",
     "output_type": "stream",
     "text": [
      "-0.05460847657155193\n"
     ]
    },
    {
     "data": {
      "text/plain": [
       "<Figure size 576x576 with 0 Axes>"
      ]
     },
     "metadata": {},
     "output_type": "display_data"
    },
    {
     "data": {
      "image/png": "[encoded data removed]",
      "text/plain": [
       "<Figure size 432x288 with 1 Axes>"
      ]
     },
     "metadata": {
      "needs_background": "light"
     },
     "output_type": "display_data"
    }
   ],
   "source": [
    "slope, intercept, r, p, se = linregress(Northern_city_data[\"Lat\"],Northern_city_data[\"Wind Speed\"])\n",
    "print(r)\n",
    "plt.figure(figsize=(8,8))\n",
    "\n",
    "Northern_city_data.plot(kind=\"scatter\", x=\"Lat\", y=\"Wind Speed\")\n",
    "plt.xlabel('Latitude')\n",
    "plt.ylabel('Wind Speed')\n",
    "\n",
    "regress_values = Northern_city_data[\"Lat\"] * slope + intercept\n",
    "plt.plot(Northern_city_data[\"Lat\"],regress_values,\"r-\")\n",
    "\n",
    "line_eq = \"y = \" + str(round(slope,2)) + \"x + \" + str(round(intercept,2))\n",
    "plt.annotate(line_eq,(6,10),fontsize=15,color=\"red\")\n",
    "plt.title(\"Northern Hemisphere - Max Temp vs. Wind Speed Linear Regression\")\n",
    "\n",
    "plt.show()\n"
   ]
  },
  {
   "cell_type": "markdown",
   "metadata": {},
   "source": [
    "####  Southern Hemisphere - Wind Speed (mph) vs. Latitude Linear Regression"
   ]
  },
  {
   "cell_type": "code",
   "execution_count": 31,
   "metadata": {},
   "outputs": [
    {
     "name": "stdout",
     "output_type": "stream",
     "text": [
      "-0.08279704566338754\n"
     ]
    },
    {
     "data": {
      "text/plain": [
       "<Figure size 576x576 with 0 Axes>"
      ]
     },
     "metadata": {},
     "output_type": "display_data"
    },
    {
     "data": {
      "image/png": "[encoded data removed]",
      "text/plain": [
       "<Figure size 432x288 with 1 Axes>"
      ]
     },
     "metadata": {
      "needs_background": "light"
     },
     "output_type": "display_data"
    }
   ],
   "source": [
    "slope, intercept, r, p, se = linregress(Southern_city_data[\"Lat\"],Southern_city_data[\"Wind Speed\"])\n",
    "print(r)\n",
    "plt.figure(figsize=(8,8))\n",
    "\n",
    "Southern_city_data.plot(kind=\"scatter\", x=\"Lat\", y=\"Wind Speed\")\n",
    "plt.xlabel('Latitude')\n",
    "plt.ylabel('Wind Speed')\n",
    "\n",
    "regress_values = Southern_city_data[\"Lat\"] * slope + intercept\n",
    "plt.plot(Southern_city_data[\"Lat\"],regress_values,\"r-\")\n",
    "\n",
    "line_eq = \"y = \" + str(round(slope,2)) + \"x + \" + str(round(intercept,2))\n",
    "plt.annotate(line_eq,(6,10),fontsize=15,color=\"red\")\n",
    "plt.title(\"Southern Hemisphere - Latitude vs. Wind Speed Line Regression\")\n",
    "\n",
    "plt.show()\n"
   ]
  },
  {
   "cell_type": "code",
   "execution_count": null,
   "metadata": {},
   "outputs": [],
   "source": []
  }
 ],
 "metadata": {
  "anaconda-cloud": {},
  "kernel_info": {
   "name": "python3"
  },
  "kernelspec": {
   "display_name": "Python 3",
   "language": "python",
   "name": "python3"
  },
  "language_info": {
   "codemirror_mode": {
    "name": "ipython",
    "version": 3
   },
   "file_extension": ".py",
   "mimetype": "text/x-python",
   "name": "python",
   "nbconvert_exporter": "python",
   "pygments_lexer": "ipython3",
   "version": "3.8.8"
  },
  "latex_envs": {
   "LaTeX_envs_menu_present": true,
   "autoclose": false,
   "autocomplete": true,
   "bibliofile": "biblio.bib",
   "cite_by": "apalike",
   "current_citInitial": 1,
   "eqLabelWithNumbers": true,
   "eqNumInitial": 1,
   "hotkeys": {
    "equation": "Ctrl-E",
    "itemize": "Ctrl-I"
   },
   "labels_anchors": false,
   "latex_user_defs": false,
   "report_style_numbering": false,
   "user_envs_cfg": false
  },
  "nteract": {
   "version": "0.12.3"
  }
 },
 "nbformat": 4,
 "nbformat_minor": 2
}
