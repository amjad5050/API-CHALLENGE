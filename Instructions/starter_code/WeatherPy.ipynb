{
 "cells": [
  {
   "cell_type": "markdown",
   "metadata": {},
   "source": [
    "# WeatherPy\n",
    "----\n",
    "\n",
    "#### Note\n",
    "* Instructions have been included for each segment. You do not have to follow them exactly, but they are included to help you think through the steps."
   ]
  },
  {
   "cell_type": "code",
   "execution_count": 10,
   "metadata": {
    "scrolled": true
   },
   "outputs": [],
   "source": [
    "# Dependencies and Setup\n",
    "import matplotlib.pyplot as plt\n",
    "import pandas as pd\n",
    "import numpy as np\n",
    "import requests\n",
    "import time\n",
    "from scipy.stats import linregress\n",
    "import scipy.stats as st\n",
    "import time\n",
    "\n",
    "# Import API key\n",
    "from api_keys import weather_api_key\n",
    "\n",
    "# Incorporated citipy to determine city based on latitude and longitude\n",
    "from citipy import citipy\n",
    "\n",
    "# Output File (CSV)\n",
    "output_data_file = \"output_data/cities.csv\"\n",
    "\n",
    "# Range of latitudes and longitudes\n",
    "lat_range = (-90, 90)\n",
    "lng_range = (-180, 180)"
   ]
  },
  {
   "cell_type": "markdown",
   "metadata": {},
   "source": [
    "## Generate Cities List"
   ]
  },
  {
   "cell_type": "code",
   "execution_count": 8,
   "metadata": {},
   "outputs": [
    {
     "data": {
      "text/plain": [
       "'b673a80d44197678e46eaeed96639374'"
      ]
     },
     "execution_count": 8,
     "metadata": {},
     "output_type": "execute_result"
    }
   ],
   "source": [
    "weather_api_key"
   ]
  },
  {
   "cell_type": "code",
   "execution_count": 11,
   "metadata": {},
   "outputs": [
    {
     "data": {
      "text/plain": [
       "603"
      ]
     },
     "execution_count": 11,
     "metadata": {},
     "output_type": "execute_result"
    }
   ],
   "source": [
    "# List for holding lat_lngs and cities\n",
    "lat_lngs = []\n",
    "cities = []\n",
    "\n",
    "# Create a set of random lat and lng combinations\n",
    "lats = np.random.uniform(lat_range[0], lat_range[1], size=1500)\n",
    "lngs = np.random.uniform(lng_range[0], lng_range[1], size=1500)\n",
    "lat_lngs = zip(lats, lngs)\n",
    "\n",
    "# Identify nearest city for each lat, lng combination\n",
    "for lat_lng in lat_lngs:\n",
    "    city = citipy.nearest_city(lat_lng[0], lat_lng[1]).city_name\n",
    "    \n",
    "    # If the city is unique, then add it to a our cities list\n",
    "    if city not in cities:\n",
    "        cities.append(city)\n",
    "\n",
    "# Print the city count to confirm sufficient count\n",
    "len(cities)"
   ]
  },
  {
   "cell_type": "markdown",
   "metadata": {},
   "source": [
    "### Perform API Calls\n",
    "* Perform a weather check on each city using a series of successive API calls.\n",
    "* Include a print log of each city as it'sbeing processed (with the city number and city name).\n"
   ]
  },
  {
   "cell_type": "code",
   "execution_count": 44,
   "metadata": {},
   "outputs": [],
   "source": [
    "url = \"http://api.openweathermap.org/data/2.5/weather?\"\n",
    "units= \"imperial\"\n",
    "query_url = f\"{url}appid={weather_api_key}&units={units}&q=\"\n",
    "\n"
   ]
  },
  {
   "cell_type": "code",
   "execution_count": 45,
   "metadata": {},
   "outputs": [],
   "source": [
    "cities=cities[0:-1]\n",
    "responses = []\n",
    "\n",
    "for city in cities:\n",
    "    response = requests.get(query_url + city).json()\n",
    "    responses.append(response)\n"
   ]
  },
  {
   "cell_type": "code",
   "execution_count": 46,
   "metadata": {},
   "outputs": [],
   "source": [
    "raw_df = pd.json_normalize(responses)\n"
   ]
  },
  {
   "cell_type": "code",
   "execution_count": 47,
   "metadata": {},
   "outputs": [
    {
     "data": {
      "text/html": [
       "<div>\n",
       "<style scoped>\n",
       "    .dataframe tbody tr th:only-of-type {\n",
       "        vertical-align: middle;\n",
       "    }\n",
       "\n",
       "    .dataframe tbody tr th {\n",
       "        vertical-align: top;\n",
       "    }\n",
       "\n",
       "    .dataframe thead th {\n",
       "        text-align: right;\n",
       "    }\n",
       "</style>\n",
       "<table border=\"1\" class=\"dataframe\">\n",
       "  <thead>\n",
       "    <tr style=\"text-align: right;\">\n",
       "      <th></th>\n",
       "      <th>weather</th>\n",
       "      <th>base</th>\n",
       "      <th>visibility</th>\n",
       "      <th>dt</th>\n",
       "      <th>timezone</th>\n",
       "      <th>id</th>\n",
       "      <th>name</th>\n",
       "      <th>cod</th>\n",
       "      <th>coord.lon</th>\n",
       "      <th>coord.lat</th>\n",
       "      <th>...</th>\n",
       "      <th>wind.deg</th>\n",
       "      <th>wind.gust</th>\n",
       "      <th>clouds.all</th>\n",
       "      <th>sys.country</th>\n",
       "      <th>sys.sunrise</th>\n",
       "      <th>sys.sunset</th>\n",
       "      <th>sys.type</th>\n",
       "      <th>sys.id</th>\n",
       "      <th>rain.1h</th>\n",
       "      <th>message</th>\n",
       "    </tr>\n",
       "  </thead>\n",
       "  <tbody>\n",
       "    <tr>\n",
       "      <th>0</th>\n",
       "      <td>[{'id': 800, 'main': 'Clear', 'description': '...</td>\n",
       "      <td>stations</td>\n",
       "      <td>10000.0</td>\n",
       "      <td>1.627842e+09</td>\n",
       "      <td>-10800.0</td>\n",
       "      <td>3440777.0</td>\n",
       "      <td>Rocha</td>\n",
       "      <td>200</td>\n",
       "      <td>-54.3333</td>\n",
       "      <td>-34.4833</td>\n",
       "      <td>...</td>\n",
       "      <td>166.0</td>\n",
       "      <td>5.50</td>\n",
       "      <td>4.0</td>\n",
       "      <td>UY</td>\n",
       "      <td>1.627814e+09</td>\n",
       "      <td>1.627851e+09</td>\n",
       "      <td>NaN</td>\n",
       "      <td>NaN</td>\n",
       "      <td>NaN</td>\n",
       "      <td>NaN</td>\n",
       "    </tr>\n",
       "    <tr>\n",
       "      <th>1</th>\n",
       "      <td>[{'id': 803, 'main': 'Clouds', 'description': ...</td>\n",
       "      <td>stations</td>\n",
       "      <td>10000.0</td>\n",
       "      <td>1.627842e+09</td>\n",
       "      <td>10800.0</td>\n",
       "      <td>546105.0</td>\n",
       "      <td>Nikolskoye</td>\n",
       "      <td>200</td>\n",
       "      <td>30.7861</td>\n",
       "      <td>59.7035</td>\n",
       "      <td>...</td>\n",
       "      <td>245.0</td>\n",
       "      <td>26.26</td>\n",
       "      <td>60.0</td>\n",
       "      <td>RU</td>\n",
       "      <td>1.627782e+09</td>\n",
       "      <td>1.627842e+09</td>\n",
       "      <td>1.0</td>\n",
       "      <td>8926.0</td>\n",
       "      <td>NaN</td>\n",
       "      <td>NaN</td>\n",
       "    </tr>\n",
       "    <tr>\n",
       "      <th>2</th>\n",
       "      <td>[{'id': 500, 'main': 'Rain', 'description': 'l...</td>\n",
       "      <td>stations</td>\n",
       "      <td>10000.0</td>\n",
       "      <td>1.627842e+09</td>\n",
       "      <td>25200.0</td>\n",
       "      <td>1213855.0</td>\n",
       "      <td>Sibolga</td>\n",
       "      <td>200</td>\n",
       "      <td>98.7792</td>\n",
       "      <td>1.7427</td>\n",
       "      <td>...</td>\n",
       "      <td>21.0</td>\n",
       "      <td>3.69</td>\n",
       "      <td>98.0</td>\n",
       "      <td>ID</td>\n",
       "      <td>1.627860e+09</td>\n",
       "      <td>1.627904e+09</td>\n",
       "      <td>NaN</td>\n",
       "      <td>NaN</td>\n",
       "      <td>0.49</td>\n",
       "      <td>NaN</td>\n",
       "    </tr>\n",
       "    <tr>\n",
       "      <th>3</th>\n",
       "      <td>[{'id': 804, 'main': 'Clouds', 'description': ...</td>\n",
       "      <td>stations</td>\n",
       "      <td>804.0</td>\n",
       "      <td>1.627842e+09</td>\n",
       "      <td>25200.0</td>\n",
       "      <td>1507390.0</td>\n",
       "      <td>Dikson</td>\n",
       "      <td>200</td>\n",
       "      <td>80.5464</td>\n",
       "      <td>73.5069</td>\n",
       "      <td>...</td>\n",
       "      <td>250.0</td>\n",
       "      <td>3.44</td>\n",
       "      <td>100.0</td>\n",
       "      <td>RU</td>\n",
       "      <td>0.000000e+00</td>\n",
       "      <td>0.000000e+00</td>\n",
       "      <td>NaN</td>\n",
       "      <td>NaN</td>\n",
       "      <td>NaN</td>\n",
       "      <td>NaN</td>\n",
       "    </tr>\n",
       "    <tr>\n",
       "      <th>4</th>\n",
       "      <td>[{'id': 801, 'main': 'Clouds', 'description': ...</td>\n",
       "      <td>stations</td>\n",
       "      <td>10000.0</td>\n",
       "      <td>1.627842e+09</td>\n",
       "      <td>-21600.0</td>\n",
       "      <td>6185377.0</td>\n",
       "      <td>Yellowknife</td>\n",
       "      <td>200</td>\n",
       "      <td>-114.3525</td>\n",
       "      <td>62.4560</td>\n",
       "      <td>...</td>\n",
       "      <td>70.0</td>\n",
       "      <td>1.01</td>\n",
       "      <td>20.0</td>\n",
       "      <td>CA</td>\n",
       "      <td>1.627816e+09</td>\n",
       "      <td>1.627878e+09</td>\n",
       "      <td>2.0</td>\n",
       "      <td>19346.0</td>\n",
       "      <td>NaN</td>\n",
       "      <td>NaN</td>\n",
       "    </tr>\n",
       "    <tr>\n",
       "      <th>...</th>\n",
       "      <td>...</td>\n",
       "      <td>...</td>\n",
       "      <td>...</td>\n",
       "      <td>...</td>\n",
       "      <td>...</td>\n",
       "      <td>...</td>\n",
       "      <td>...</td>\n",
       "      <td>...</td>\n",
       "      <td>...</td>\n",
       "      <td>...</td>\n",
       "      <td>...</td>\n",
       "      <td>...</td>\n",
       "      <td>...</td>\n",
       "      <td>...</td>\n",
       "      <td>...</td>\n",
       "      <td>...</td>\n",
       "      <td>...</td>\n",
       "      <td>...</td>\n",
       "      <td>...</td>\n",
       "      <td>...</td>\n",
       "      <td>...</td>\n",
       "    </tr>\n",
       "    <tr>\n",
       "      <th>592</th>\n",
       "      <td>[{'id': 800, 'main': 'Clear', 'description': '...</td>\n",
       "      <td>stations</td>\n",
       "      <td>10000.0</td>\n",
       "      <td>1.627842e+09</td>\n",
       "      <td>-10800.0</td>\n",
       "      <td>3456642.0</td>\n",
       "      <td>Mozarlândia</td>\n",
       "      <td>200</td>\n",
       "      <td>-50.5706</td>\n",
       "      <td>-14.7447</td>\n",
       "      <td>...</td>\n",
       "      <td>189.0</td>\n",
       "      <td>6.17</td>\n",
       "      <td>6.0</td>\n",
       "      <td>BR</td>\n",
       "      <td>1.627811e+09</td>\n",
       "      <td>1.627852e+09</td>\n",
       "      <td>NaN</td>\n",
       "      <td>NaN</td>\n",
       "      <td>NaN</td>\n",
       "      <td>NaN</td>\n",
       "    </tr>\n",
       "    <tr>\n",
       "      <th>593</th>\n",
       "      <td>[{'id': 804, 'main': 'Clouds', 'description': ...</td>\n",
       "      <td>stations</td>\n",
       "      <td>10000.0</td>\n",
       "      <td>1.627842e+09</td>\n",
       "      <td>32400.0</td>\n",
       "      <td>2026861.0</td>\n",
       "      <td>Berdigestyakh</td>\n",
       "      <td>200</td>\n",
       "      <td>126.6992</td>\n",
       "      <td>62.0989</td>\n",
       "      <td>...</td>\n",
       "      <td>56.0</td>\n",
       "      <td>6.62</td>\n",
       "      <td>97.0</td>\n",
       "      <td>RU</td>\n",
       "      <td>1.627844e+09</td>\n",
       "      <td>1.627907e+09</td>\n",
       "      <td>NaN</td>\n",
       "      <td>NaN</td>\n",
       "      <td>NaN</td>\n",
       "      <td>NaN</td>\n",
       "    </tr>\n",
       "    <tr>\n",
       "      <th>594</th>\n",
       "      <td>[{'id': 803, 'main': 'Clouds', 'description': ...</td>\n",
       "      <td>stations</td>\n",
       "      <td>10000.0</td>\n",
       "      <td>1.627842e+09</td>\n",
       "      <td>7200.0</td>\n",
       "      <td>3149510.0</td>\n",
       "      <td>Koppang</td>\n",
       "      <td>200</td>\n",
       "      <td>11.0555</td>\n",
       "      <td>61.5706</td>\n",
       "      <td>...</td>\n",
       "      <td>5.0</td>\n",
       "      <td>16.82</td>\n",
       "      <td>80.0</td>\n",
       "      <td>NO</td>\n",
       "      <td>1.627786e+09</td>\n",
       "      <td>1.627848e+09</td>\n",
       "      <td>NaN</td>\n",
       "      <td>NaN</td>\n",
       "      <td>NaN</td>\n",
       "      <td>NaN</td>\n",
       "    </tr>\n",
       "    <tr>\n",
       "      <th>595</th>\n",
       "      <td>[{'id': 803, 'main': 'Clouds', 'description': ...</td>\n",
       "      <td>stations</td>\n",
       "      <td>10000.0</td>\n",
       "      <td>1.627842e+09</td>\n",
       "      <td>0.0</td>\n",
       "      <td>3416888.0</td>\n",
       "      <td>Grindavik</td>\n",
       "      <td>200</td>\n",
       "      <td>-22.4338</td>\n",
       "      <td>63.8424</td>\n",
       "      <td>...</td>\n",
       "      <td>280.0</td>\n",
       "      <td>NaN</td>\n",
       "      <td>75.0</td>\n",
       "      <td>IS</td>\n",
       "      <td>1.627793e+09</td>\n",
       "      <td>1.627857e+09</td>\n",
       "      <td>1.0</td>\n",
       "      <td>90.0</td>\n",
       "      <td>NaN</td>\n",
       "      <td>NaN</td>\n",
       "    </tr>\n",
       "    <tr>\n",
       "      <th>596</th>\n",
       "      <td>[{'id': 804, 'main': 'Clouds', 'description': ...</td>\n",
       "      <td>stations</td>\n",
       "      <td>9616.0</td>\n",
       "      <td>1.627842e+09</td>\n",
       "      <td>-18000.0</td>\n",
       "      <td>3671450.0</td>\n",
       "      <td>Inírida</td>\n",
       "      <td>200</td>\n",
       "      <td>-67.9239</td>\n",
       "      <td>3.8653</td>\n",
       "      <td>...</td>\n",
       "      <td>178.0</td>\n",
       "      <td>8.75</td>\n",
       "      <td>96.0</td>\n",
       "      <td>CO</td>\n",
       "      <td>1.627814e+09</td>\n",
       "      <td>1.627858e+09</td>\n",
       "      <td>NaN</td>\n",
       "      <td>NaN</td>\n",
       "      <td>NaN</td>\n",
       "      <td>NaN</td>\n",
       "    </tr>\n",
       "  </tbody>\n",
       "</table>\n",
       "<p>597 rows × 29 columns</p>\n",
       "</div>"
      ],
      "text/plain": [
       "                                               weather      base  visibility  \\\n",
       "0    [{'id': 800, 'main': 'Clear', 'description': '...  stations     10000.0   \n",
       "1    [{'id': 803, 'main': 'Clouds', 'description': ...  stations     10000.0   \n",
       "2    [{'id': 500, 'main': 'Rain', 'description': 'l...  stations     10000.0   \n",
       "3    [{'id': 804, 'main': 'Clouds', 'description': ...  stations       804.0   \n",
       "4    [{'id': 801, 'main': 'Clouds', 'description': ...  stations     10000.0   \n",
       "..                                                 ...       ...         ...   \n",
       "592  [{'id': 800, 'main': 'Clear', 'description': '...  stations     10000.0   \n",
       "593  [{'id': 804, 'main': 'Clouds', 'description': ...  stations     10000.0   \n",
       "594  [{'id': 803, 'main': 'Clouds', 'description': ...  stations     10000.0   \n",
       "595  [{'id': 803, 'main': 'Clouds', 'description': ...  stations     10000.0   \n",
       "596  [{'id': 804, 'main': 'Clouds', 'description': ...  stations      9616.0   \n",
       "\n",
       "               dt  timezone         id           name  cod  coord.lon  \\\n",
       "0    1.627842e+09  -10800.0  3440777.0          Rocha  200   -54.3333   \n",
       "1    1.627842e+09   10800.0   546105.0     Nikolskoye  200    30.7861   \n",
       "2    1.627842e+09   25200.0  1213855.0        Sibolga  200    98.7792   \n",
       "3    1.627842e+09   25200.0  1507390.0         Dikson  200    80.5464   \n",
       "4    1.627842e+09  -21600.0  6185377.0    Yellowknife  200  -114.3525   \n",
       "..            ...       ...        ...            ...  ...        ...   \n",
       "592  1.627842e+09  -10800.0  3456642.0    Mozarlândia  200   -50.5706   \n",
       "593  1.627842e+09   32400.0  2026861.0  Berdigestyakh  200   126.6992   \n",
       "594  1.627842e+09    7200.0  3149510.0        Koppang  200    11.0555   \n",
       "595  1.627842e+09       0.0  3416888.0      Grindavik  200   -22.4338   \n",
       "596  1.627842e+09  -18000.0  3671450.0        Inírida  200   -67.9239   \n",
       "\n",
       "     coord.lat  ...  wind.deg  wind.gust  clouds.all  sys.country  \\\n",
       "0     -34.4833  ...     166.0       5.50         4.0           UY   \n",
       "1      59.7035  ...     245.0      26.26        60.0           RU   \n",
       "2       1.7427  ...      21.0       3.69        98.0           ID   \n",
       "3      73.5069  ...     250.0       3.44       100.0           RU   \n",
       "4      62.4560  ...      70.0       1.01        20.0           CA   \n",
       "..         ...  ...       ...        ...         ...          ...   \n",
       "592   -14.7447  ...     189.0       6.17         6.0           BR   \n",
       "593    62.0989  ...      56.0       6.62        97.0           RU   \n",
       "594    61.5706  ...       5.0      16.82        80.0           NO   \n",
       "595    63.8424  ...     280.0        NaN        75.0           IS   \n",
       "596     3.8653  ...     178.0       8.75        96.0           CO   \n",
       "\n",
       "      sys.sunrise    sys.sunset  sys.type   sys.id  rain.1h  message  \n",
       "0    1.627814e+09  1.627851e+09       NaN      NaN      NaN      NaN  \n",
       "1    1.627782e+09  1.627842e+09       1.0   8926.0      NaN      NaN  \n",
       "2    1.627860e+09  1.627904e+09       NaN      NaN     0.49      NaN  \n",
       "3    0.000000e+00  0.000000e+00       NaN      NaN      NaN      NaN  \n",
       "4    1.627816e+09  1.627878e+09       2.0  19346.0      NaN      NaN  \n",
       "..            ...           ...       ...      ...      ...      ...  \n",
       "592  1.627811e+09  1.627852e+09       NaN      NaN      NaN      NaN  \n",
       "593  1.627844e+09  1.627907e+09       NaN      NaN      NaN      NaN  \n",
       "594  1.627786e+09  1.627848e+09       NaN      NaN      NaN      NaN  \n",
       "595  1.627793e+09  1.627857e+09       1.0     90.0      NaN      NaN  \n",
       "596  1.627814e+09  1.627858e+09       NaN      NaN      NaN      NaN  \n",
       "\n",
       "[597 rows x 29 columns]"
      ]
     },
     "execution_count": 47,
     "metadata": {},
     "output_type": "execute_result"
    }
   ],
   "source": [
    "raw_df"
   ]
  },
  {
   "cell_type": "code",
   "execution_count": 48,
   "metadata": {},
   "outputs": [],
   "source": [
    "weather_df = raw_df[['name', 'coord.lat','coord.lon','main.temp_max', 'main.humidity','clouds.all','wind.speed','sys.country','dt']]\n",
    "weather_df.columns = [\"city\", \"Lat\", \"Lon\", \"max_temp\",\"Humidity\",\"Cloudiness\",\"Wind Speed\",\"Country\",\"Date\"]\n"
   ]
  },
  {
   "cell_type": "markdown",
   "metadata": {},
   "source": [
    "### Convert Raw Data to DataFrame\n",
    "* Export the city data into a .csv.\n",
    "* Display the DataFrame"
   ]
  },
  {
   "cell_type": "code",
   "execution_count": 49,
   "metadata": {},
   "outputs": [
    {
     "data": {
      "text/html": [
       "<div>\n",
       "<style scoped>\n",
       "    .dataframe tbody tr th:only-of-type {\n",
       "        vertical-align: middle;\n",
       "    }\n",
       "\n",
       "    .dataframe tbody tr th {\n",
       "        vertical-align: top;\n",
       "    }\n",
       "\n",
       "    .dataframe thead th {\n",
       "        text-align: right;\n",
       "    }\n",
       "</style>\n",
       "<table border=\"1\" class=\"dataframe\">\n",
       "  <thead>\n",
       "    <tr style=\"text-align: right;\">\n",
       "      <th></th>\n",
       "      <th>Lat</th>\n",
       "      <th>Lon</th>\n",
       "      <th>max_temp</th>\n",
       "      <th>Humidity</th>\n",
       "      <th>Cloudiness</th>\n",
       "      <th>Wind Speed</th>\n",
       "      <th>Date</th>\n",
       "    </tr>\n",
       "  </thead>\n",
       "  <tbody>\n",
       "    <tr>\n",
       "      <th>count</th>\n",
       "      <td>552.000000</td>\n",
       "      <td>552.000000</td>\n",
       "      <td>552.000000</td>\n",
       "      <td>552.000000</td>\n",
       "      <td>552.000000</td>\n",
       "      <td>552.000000</td>\n",
       "      <td>5.520000e+02</td>\n",
       "    </tr>\n",
       "    <tr>\n",
       "      <th>mean</th>\n",
       "      <td>19.835599</td>\n",
       "      <td>17.580144</td>\n",
       "      <td>71.645435</td>\n",
       "      <td>66.851449</td>\n",
       "      <td>52.708333</td>\n",
       "      <td>8.019692</td>\n",
       "      <td>1.627842e+09</td>\n",
       "    </tr>\n",
       "    <tr>\n",
       "      <th>std</th>\n",
       "      <td>32.690661</td>\n",
       "      <td>90.795984</td>\n",
       "      <td>14.899392</td>\n",
       "      <td>22.840241</td>\n",
       "      <td>37.443970</td>\n",
       "      <td>5.621699</td>\n",
       "      <td>5.536722e+01</td>\n",
       "    </tr>\n",
       "    <tr>\n",
       "      <th>min</th>\n",
       "      <td>-54.800000</td>\n",
       "      <td>-175.200000</td>\n",
       "      <td>31.840000</td>\n",
       "      <td>8.000000</td>\n",
       "      <td>0.000000</td>\n",
       "      <td>0.000000</td>\n",
       "      <td>1.627842e+09</td>\n",
       "    </tr>\n",
       "    <tr>\n",
       "      <th>25%</th>\n",
       "      <td>-5.315850</td>\n",
       "      <td>-65.421500</td>\n",
       "      <td>60.690000</td>\n",
       "      <td>55.000000</td>\n",
       "      <td>16.750000</td>\n",
       "      <td>3.955000</td>\n",
       "      <td>1.627842e+09</td>\n",
       "    </tr>\n",
       "    <tr>\n",
       "      <th>50%</th>\n",
       "      <td>22.426100</td>\n",
       "      <td>23.808300</td>\n",
       "      <td>73.705000</td>\n",
       "      <td>72.000000</td>\n",
       "      <td>57.500000</td>\n",
       "      <td>6.880000</td>\n",
       "      <td>1.627842e+09</td>\n",
       "    </tr>\n",
       "    <tr>\n",
       "      <th>75%</th>\n",
       "      <td>46.236650</td>\n",
       "      <td>97.725400</td>\n",
       "      <td>81.812500</td>\n",
       "      <td>84.000000</td>\n",
       "      <td>90.000000</td>\n",
       "      <td>10.770000</td>\n",
       "      <td>1.627842e+09</td>\n",
       "    </tr>\n",
       "    <tr>\n",
       "      <th>max</th>\n",
       "      <td>78.218600</td>\n",
       "      <td>179.316700</td>\n",
       "      <td>110.080000</td>\n",
       "      <td>100.000000</td>\n",
       "      <td>100.000000</td>\n",
       "      <td>31.070000</td>\n",
       "      <td>1.627842e+09</td>\n",
       "    </tr>\n",
       "  </tbody>\n",
       "</table>\n",
       "</div>"
      ],
      "text/plain": [
       "              Lat         Lon    max_temp    Humidity  Cloudiness  Wind Speed  \\\n",
       "count  552.000000  552.000000  552.000000  552.000000  552.000000  552.000000   \n",
       "mean    19.835599   17.580144   71.645435   66.851449   52.708333    8.019692   \n",
       "std     32.690661   90.795984   14.899392   22.840241   37.443970    5.621699   \n",
       "min    -54.800000 -175.200000   31.840000    8.000000    0.000000    0.000000   \n",
       "25%     -5.315850  -65.421500   60.690000   55.000000   16.750000    3.955000   \n",
       "50%     22.426100   23.808300   73.705000   72.000000   57.500000    6.880000   \n",
       "75%     46.236650   97.725400   81.812500   84.000000   90.000000   10.770000   \n",
       "max     78.218600  179.316700  110.080000  100.000000  100.000000   31.070000   \n",
       "\n",
       "               Date  \n",
       "count  5.520000e+02  \n",
       "mean   1.627842e+09  \n",
       "std    5.536722e+01  \n",
       "min    1.627842e+09  \n",
       "25%    1.627842e+09  \n",
       "50%    1.627842e+09  \n",
       "75%    1.627842e+09  \n",
       "max    1.627842e+09  "
      ]
     },
     "execution_count": 49,
     "metadata": {},
     "output_type": "execute_result"
    }
   ],
   "source": [
    "weather_df.describe()"
   ]
  },
  {
   "cell_type": "code",
   "execution_count": 50,
   "metadata": {},
   "outputs": [
    {
     "name": "stdout",
     "output_type": "stream",
     "text": [
      "<class 'pandas.core.frame.DataFrame'>\n",
      "RangeIndex: 597 entries, 0 to 596\n",
      "Data columns (total 9 columns):\n",
      " #   Column      Non-Null Count  Dtype  \n",
      "---  ------      --------------  -----  \n",
      " 0   city        552 non-null    object \n",
      " 1   Lat         552 non-null    float64\n",
      " 2   Lon         552 non-null    float64\n",
      " 3   max_temp    552 non-null    float64\n",
      " 4   Humidity    552 non-null    float64\n",
      " 5   Cloudiness  552 non-null    float64\n",
      " 6   Wind Speed  552 non-null    float64\n",
      " 7   Country     552 non-null    object \n",
      " 8   Date        552 non-null    float64\n",
      "dtypes: float64(7), object(2)\n",
      "memory usage: 42.1+ KB\n"
     ]
    }
   ],
   "source": [
    "weather_df.info()"
   ]
  },
  {
   "cell_type": "code",
   "execution_count": null,
   "metadata": {},
   "outputs": [],
   "source": []
  },
  {
   "cell_type": "markdown",
   "metadata": {},
   "source": [
    "## Inspect the data and remove the cities where the humidity > 100%.\n",
    "----\n",
    "Skip this step if there are no cities that have humidity > 100%. "
   ]
  },
  {
   "cell_type": "code",
   "execution_count": 51,
   "metadata": {},
   "outputs": [
    {
     "data": {
      "text/html": [
       "<div>\n",
       "<style scoped>\n",
       "    .dataframe tbody tr th:only-of-type {\n",
       "        vertical-align: middle;\n",
       "    }\n",
       "\n",
       "    .dataframe tbody tr th {\n",
       "        vertical-align: top;\n",
       "    }\n",
       "\n",
       "    .dataframe thead th {\n",
       "        text-align: right;\n",
       "    }\n",
       "</style>\n",
       "<table border=\"1\" class=\"dataframe\">\n",
       "  <thead>\n",
       "    <tr style=\"text-align: right;\">\n",
       "      <th></th>\n",
       "      <th>index</th>\n",
       "      <th>city</th>\n",
       "      <th>Lat</th>\n",
       "      <th>Lon</th>\n",
       "      <th>max_temp</th>\n",
       "      <th>Humidity</th>\n",
       "      <th>Cloudiness</th>\n",
       "      <th>Wind Speed</th>\n",
       "      <th>Country</th>\n",
       "      <th>Date</th>\n",
       "    </tr>\n",
       "  </thead>\n",
       "  <tbody>\n",
       "    <tr>\n",
       "      <th>0</th>\n",
       "      <td>34</td>\n",
       "      <td>Diego de Almagro</td>\n",
       "      <td>-26.3667</td>\n",
       "      <td>-70.0500</td>\n",
       "      <td>82.83</td>\n",
       "      <td>8.0</td>\n",
       "      <td>0.0</td>\n",
       "      <td>9.26</td>\n",
       "      <td>CL</td>\n",
       "      <td>1.627842e+09</td>\n",
       "    </tr>\n",
       "    <tr>\n",
       "      <th>1</th>\n",
       "      <td>7</td>\n",
       "      <td>Ubari</td>\n",
       "      <td>26.5921</td>\n",
       "      <td>12.7805</td>\n",
       "      <td>95.99</td>\n",
       "      <td>8.0</td>\n",
       "      <td>0.0</td>\n",
       "      <td>8.08</td>\n",
       "      <td>LY</td>\n",
       "      <td>1.627842e+09</td>\n",
       "    </tr>\n",
       "    <tr>\n",
       "      <th>2</th>\n",
       "      <td>15</td>\n",
       "      <td>Gazli</td>\n",
       "      <td>40.1333</td>\n",
       "      <td>63.4500</td>\n",
       "      <td>89.89</td>\n",
       "      <td>9.0</td>\n",
       "      <td>0.0</td>\n",
       "      <td>14.50</td>\n",
       "      <td>UZ</td>\n",
       "      <td>1.627842e+09</td>\n",
       "    </tr>\n",
       "    <tr>\n",
       "      <th>3</th>\n",
       "      <td>453</td>\n",
       "      <td>Tabas</td>\n",
       "      <td>33.5959</td>\n",
       "      <td>56.9244</td>\n",
       "      <td>91.60</td>\n",
       "      <td>9.0</td>\n",
       "      <td>12.0</td>\n",
       "      <td>10.02</td>\n",
       "      <td>IR</td>\n",
       "      <td>1.627842e+09</td>\n",
       "    </tr>\n",
       "    <tr>\n",
       "      <th>4</th>\n",
       "      <td>438</td>\n",
       "      <td>Sabha</td>\n",
       "      <td>27.0377</td>\n",
       "      <td>14.4283</td>\n",
       "      <td>95.97</td>\n",
       "      <td>9.0</td>\n",
       "      <td>0.0</td>\n",
       "      <td>6.04</td>\n",
       "      <td>LY</td>\n",
       "      <td>1.627842e+09</td>\n",
       "    </tr>\n",
       "  </tbody>\n",
       "</table>\n",
       "</div>"
      ],
      "text/plain": [
       "   index              city      Lat      Lon  max_temp  Humidity  Cloudiness  \\\n",
       "0     34  Diego de Almagro -26.3667 -70.0500     82.83       8.0         0.0   \n",
       "1      7             Ubari  26.5921  12.7805     95.99       8.0         0.0   \n",
       "2     15             Gazli  40.1333  63.4500     89.89       9.0         0.0   \n",
       "3    453             Tabas  33.5959  56.9244     91.60       9.0        12.0   \n",
       "4    438             Sabha  27.0377  14.4283     95.97       9.0         0.0   \n",
       "\n",
       "   Wind Speed Country          Date  \n",
       "0        9.26      CL  1.627842e+09  \n",
       "1        8.08      LY  1.627842e+09  \n",
       "2       14.50      UZ  1.627842e+09  \n",
       "3       10.02      IR  1.627842e+09  \n",
       "4        6.04      LY  1.627842e+09  "
      ]
     },
     "execution_count": 51,
     "metadata": {},
     "output_type": "execute_result"
    }
   ],
   "source": [
    " #  Get the indices of cities that have humidity over 100%.\n",
    "weather_df.loc[weather_df[\"Humidity\"] > 100]\n",
    "clean_city_data = weather_df.sort_values(\"Humidity\").reset_index(drop=False)\n",
    "clean_city_data.head()"
   ]
  },
  {
   "cell_type": "code",
   "execution_count": 52,
   "metadata": {},
   "outputs": [
    {
     "data": {
      "text/html": [
       "<div>\n",
       "<style scoped>\n",
       "    .dataframe tbody tr th:only-of-type {\n",
       "        vertical-align: middle;\n",
       "    }\n",
       "\n",
       "    .dataframe tbody tr th {\n",
       "        vertical-align: top;\n",
       "    }\n",
       "\n",
       "    .dataframe thead th {\n",
       "        text-align: right;\n",
       "    }\n",
       "</style>\n",
       "<table border=\"1\" class=\"dataframe\">\n",
       "  <thead>\n",
       "    <tr style=\"text-align: right;\">\n",
       "      <th></th>\n",
       "      <th>index</th>\n",
       "      <th>city</th>\n",
       "      <th>Lat</th>\n",
       "      <th>Lon</th>\n",
       "      <th>max_temp</th>\n",
       "      <th>Humidity</th>\n",
       "      <th>Cloudiness</th>\n",
       "      <th>Wind Speed</th>\n",
       "      <th>Country</th>\n",
       "      <th>Date</th>\n",
       "    </tr>\n",
       "  </thead>\n",
       "  <tbody>\n",
       "    <tr>\n",
       "      <th>0</th>\n",
       "      <td>34</td>\n",
       "      <td>Diego de Almagro</td>\n",
       "      <td>-26.3667</td>\n",
       "      <td>-70.0500</td>\n",
       "      <td>82.83</td>\n",
       "      <td>8.0</td>\n",
       "      <td>0.0</td>\n",
       "      <td>9.26</td>\n",
       "      <td>CL</td>\n",
       "      <td>1.627842e+09</td>\n",
       "    </tr>\n",
       "    <tr>\n",
       "      <th>1</th>\n",
       "      <td>7</td>\n",
       "      <td>Ubari</td>\n",
       "      <td>26.5921</td>\n",
       "      <td>12.7805</td>\n",
       "      <td>95.99</td>\n",
       "      <td>8.0</td>\n",
       "      <td>0.0</td>\n",
       "      <td>8.08</td>\n",
       "      <td>LY</td>\n",
       "      <td>1.627842e+09</td>\n",
       "    </tr>\n",
       "    <tr>\n",
       "      <th>2</th>\n",
       "      <td>15</td>\n",
       "      <td>Gazli</td>\n",
       "      <td>40.1333</td>\n",
       "      <td>63.4500</td>\n",
       "      <td>89.89</td>\n",
       "      <td>9.0</td>\n",
       "      <td>0.0</td>\n",
       "      <td>14.50</td>\n",
       "      <td>UZ</td>\n",
       "      <td>1.627842e+09</td>\n",
       "    </tr>\n",
       "    <tr>\n",
       "      <th>3</th>\n",
       "      <td>453</td>\n",
       "      <td>Tabas</td>\n",
       "      <td>33.5959</td>\n",
       "      <td>56.9244</td>\n",
       "      <td>91.60</td>\n",
       "      <td>9.0</td>\n",
       "      <td>12.0</td>\n",
       "      <td>10.02</td>\n",
       "      <td>IR</td>\n",
       "      <td>1.627842e+09</td>\n",
       "    </tr>\n",
       "    <tr>\n",
       "      <th>4</th>\n",
       "      <td>438</td>\n",
       "      <td>Sabha</td>\n",
       "      <td>27.0377</td>\n",
       "      <td>14.4283</td>\n",
       "      <td>95.97</td>\n",
       "      <td>9.0</td>\n",
       "      <td>0.0</td>\n",
       "      <td>6.04</td>\n",
       "      <td>LY</td>\n",
       "      <td>1.627842e+09</td>\n",
       "    </tr>\n",
       "    <tr>\n",
       "      <th>...</th>\n",
       "      <td>...</td>\n",
       "      <td>...</td>\n",
       "      <td>...</td>\n",
       "      <td>...</td>\n",
       "      <td>...</td>\n",
       "      <td>...</td>\n",
       "      <td>...</td>\n",
       "      <td>...</td>\n",
       "      <td>...</td>\n",
       "      <td>...</td>\n",
       "    </tr>\n",
       "    <tr>\n",
       "      <th>547</th>\n",
       "      <td>377</td>\n",
       "      <td>Omsukchan</td>\n",
       "      <td>62.5333</td>\n",
       "      <td>155.8000</td>\n",
       "      <td>33.66</td>\n",
       "      <td>99.0</td>\n",
       "      <td>100.0</td>\n",
       "      <td>6.78</td>\n",
       "      <td>RU</td>\n",
       "      <td>1.627842e+09</td>\n",
       "    </tr>\n",
       "    <tr>\n",
       "      <th>548</th>\n",
       "      <td>154</td>\n",
       "      <td>Ouadda</td>\n",
       "      <td>8.0777</td>\n",
       "      <td>22.4007</td>\n",
       "      <td>67.01</td>\n",
       "      <td>99.0</td>\n",
       "      <td>100.0</td>\n",
       "      <td>2.17</td>\n",
       "      <td>CF</td>\n",
       "      <td>1.627842e+09</td>\n",
       "    </tr>\n",
       "    <tr>\n",
       "      <th>549</th>\n",
       "      <td>530</td>\n",
       "      <td>Mawlaik</td>\n",
       "      <td>23.6333</td>\n",
       "      <td>94.4167</td>\n",
       "      <td>76.24</td>\n",
       "      <td>100.0</td>\n",
       "      <td>100.0</td>\n",
       "      <td>2.01</td>\n",
       "      <td>MM</td>\n",
       "      <td>1.627842e+09</td>\n",
       "    </tr>\n",
       "    <tr>\n",
       "      <th>550</th>\n",
       "      <td>296</td>\n",
       "      <td>Praia da Vitória</td>\n",
       "      <td>38.7333</td>\n",
       "      <td>-27.0667</td>\n",
       "      <td>77.76</td>\n",
       "      <td>100.0</td>\n",
       "      <td>75.0</td>\n",
       "      <td>18.90</td>\n",
       "      <td>PT</td>\n",
       "      <td>1.627842e+09</td>\n",
       "    </tr>\n",
       "    <tr>\n",
       "      <th>551</th>\n",
       "      <td>439</td>\n",
       "      <td>Kunming</td>\n",
       "      <td>25.0389</td>\n",
       "      <td>102.7183</td>\n",
       "      <td>58.93</td>\n",
       "      <td>100.0</td>\n",
       "      <td>0.0</td>\n",
       "      <td>6.71</td>\n",
       "      <td>CN</td>\n",
       "      <td>1.627842e+09</td>\n",
       "    </tr>\n",
       "  </tbody>\n",
       "</table>\n",
       "<p>552 rows × 10 columns</p>\n",
       "</div>"
      ],
      "text/plain": [
       "     index              city      Lat       Lon  max_temp  Humidity  \\\n",
       "0       34  Diego de Almagro -26.3667  -70.0500     82.83       8.0   \n",
       "1        7             Ubari  26.5921   12.7805     95.99       8.0   \n",
       "2       15             Gazli  40.1333   63.4500     89.89       9.0   \n",
       "3      453             Tabas  33.5959   56.9244     91.60       9.0   \n",
       "4      438             Sabha  27.0377   14.4283     95.97       9.0   \n",
       "..     ...               ...      ...       ...       ...       ...   \n",
       "547    377         Omsukchan  62.5333  155.8000     33.66      99.0   \n",
       "548    154            Ouadda   8.0777   22.4007     67.01      99.0   \n",
       "549    530           Mawlaik  23.6333   94.4167     76.24     100.0   \n",
       "550    296  Praia da Vitória  38.7333  -27.0667     77.76     100.0   \n",
       "551    439           Kunming  25.0389  102.7183     58.93     100.0   \n",
       "\n",
       "     Cloudiness  Wind Speed Country          Date  \n",
       "0           0.0        9.26      CL  1.627842e+09  \n",
       "1           0.0        8.08      LY  1.627842e+09  \n",
       "2           0.0       14.50      UZ  1.627842e+09  \n",
       "3          12.0       10.02      IR  1.627842e+09  \n",
       "4           0.0        6.04      LY  1.627842e+09  \n",
       "..          ...         ...     ...           ...  \n",
       "547       100.0        6.78      RU  1.627842e+09  \n",
       "548       100.0        2.17      CF  1.627842e+09  \n",
       "549       100.0        2.01      MM  1.627842e+09  \n",
       "550        75.0       18.90      PT  1.627842e+09  \n",
       "551         0.0        6.71      CN  1.627842e+09  \n",
       "\n",
       "[552 rows x 10 columns]"
      ]
     },
     "execution_count": 52,
     "metadata": {},
     "output_type": "execute_result"
    }
   ],
   "source": [
    "# Make a new DataFrame equal to the city data to drop all humidity outliers by index.\n",
    "# Passing \"inplace=False\" will make a copy of the city_data DataFrame, which we call \"clean_city_data\".\n",
    "clean_city_data.dropna(how='any',inplace=True)\n",
    "clean_city_data"
   ]
  },
  {
   "cell_type": "code",
   "execution_count": 24,
   "metadata": {},
   "outputs": [
    {
     "name": "stdout",
     "output_type": "stream",
     "text": [
      "<class 'pandas.core.frame.DataFrame'>\n",
      "Int64Index: 500 entries, 0 to 499\n",
      "Data columns (total 10 columns):\n",
      " #   Column      Non-Null Count  Dtype  \n",
      "---  ------      --------------  -----  \n",
      " 0   index       500 non-null    int64  \n",
      " 1   city        500 non-null    object \n",
      " 2   Lat         500 non-null    float64\n",
      " 3   Lon         500 non-null    float64\n",
      " 4   max_temp    500 non-null    float64\n",
      " 5   Humidity    500 non-null    float64\n",
      " 6   Cloudiness  500 non-null    float64\n",
      " 7   Wind Speed  500 non-null    float64\n",
      " 8   Country     500 non-null    object \n",
      " 9   Date        500 non-null    float64\n",
      "dtypes: float64(7), int64(1), object(2)\n",
      "memory usage: 43.0+ KB\n"
     ]
    }
   ],
   "source": [
    "clean_city_data=clean_city_data[:500]\n",
    "clean_city_data.info()"
   ]
  },
  {
   "cell_type": "code",
   "execution_count": 53,
   "metadata": {},
   "outputs": [],
   "source": [
    "clean_city_data.to_csv('../output_data/citiesApi.csv', index=False)\n"
   ]
  },
  {
   "cell_type": "code",
   "execution_count": 54,
   "metadata": {
    "scrolled": true
   },
   "outputs": [
    {
     "data": {
      "text/html": [
       "<div>\n",
       "<style scoped>\n",
       "    .dataframe tbody tr th:only-of-type {\n",
       "        vertical-align: middle;\n",
       "    }\n",
       "\n",
       "    .dataframe tbody tr th {\n",
       "        vertical-align: top;\n",
       "    }\n",
       "\n",
       "    .dataframe thead th {\n",
       "        text-align: right;\n",
       "    }\n",
       "</style>\n",
       "<table border=\"1\" class=\"dataframe\">\n",
       "  <thead>\n",
       "    <tr style=\"text-align: right;\">\n",
       "      <th></th>\n",
       "      <th>index</th>\n",
       "      <th>city</th>\n",
       "      <th>Lat</th>\n",
       "      <th>Lon</th>\n",
       "      <th>max_temp</th>\n",
       "      <th>Humidity</th>\n",
       "      <th>Cloudiness</th>\n",
       "      <th>Wind Speed</th>\n",
       "      <th>Country</th>\n",
       "      <th>Date</th>\n",
       "    </tr>\n",
       "  </thead>\n",
       "  <tbody>\n",
       "    <tr>\n",
       "      <th>547</th>\n",
       "      <td>377</td>\n",
       "      <td>Omsukchan</td>\n",
       "      <td>62.5333</td>\n",
       "      <td>155.8000</td>\n",
       "      <td>33.66</td>\n",
       "      <td>99.0</td>\n",
       "      <td>100.0</td>\n",
       "      <td>6.78</td>\n",
       "      <td>RU</td>\n",
       "      <td>1.627842e+09</td>\n",
       "    </tr>\n",
       "    <tr>\n",
       "      <th>548</th>\n",
       "      <td>154</td>\n",
       "      <td>Ouadda</td>\n",
       "      <td>8.0777</td>\n",
       "      <td>22.4007</td>\n",
       "      <td>67.01</td>\n",
       "      <td>99.0</td>\n",
       "      <td>100.0</td>\n",
       "      <td>2.17</td>\n",
       "      <td>CF</td>\n",
       "      <td>1.627842e+09</td>\n",
       "    </tr>\n",
       "    <tr>\n",
       "      <th>549</th>\n",
       "      <td>530</td>\n",
       "      <td>Mawlaik</td>\n",
       "      <td>23.6333</td>\n",
       "      <td>94.4167</td>\n",
       "      <td>76.24</td>\n",
       "      <td>100.0</td>\n",
       "      <td>100.0</td>\n",
       "      <td>2.01</td>\n",
       "      <td>MM</td>\n",
       "      <td>1.627842e+09</td>\n",
       "    </tr>\n",
       "    <tr>\n",
       "      <th>550</th>\n",
       "      <td>296</td>\n",
       "      <td>Praia da Vitória</td>\n",
       "      <td>38.7333</td>\n",
       "      <td>-27.0667</td>\n",
       "      <td>77.76</td>\n",
       "      <td>100.0</td>\n",
       "      <td>75.0</td>\n",
       "      <td>18.90</td>\n",
       "      <td>PT</td>\n",
       "      <td>1.627842e+09</td>\n",
       "    </tr>\n",
       "    <tr>\n",
       "      <th>551</th>\n",
       "      <td>439</td>\n",
       "      <td>Kunming</td>\n",
       "      <td>25.0389</td>\n",
       "      <td>102.7183</td>\n",
       "      <td>58.93</td>\n",
       "      <td>100.0</td>\n",
       "      <td>0.0</td>\n",
       "      <td>6.71</td>\n",
       "      <td>CN</td>\n",
       "      <td>1.627842e+09</td>\n",
       "    </tr>\n",
       "  </tbody>\n",
       "</table>\n",
       "</div>"
      ],
      "text/plain": [
       "     index              city      Lat       Lon  max_temp  Humidity  \\\n",
       "547    377         Omsukchan  62.5333  155.8000     33.66      99.0   \n",
       "548    154            Ouadda   8.0777   22.4007     67.01      99.0   \n",
       "549    530           Mawlaik  23.6333   94.4167     76.24     100.0   \n",
       "550    296  Praia da Vitória  38.7333  -27.0667     77.76     100.0   \n",
       "551    439           Kunming  25.0389  102.7183     58.93     100.0   \n",
       "\n",
       "     Cloudiness  Wind Speed Country          Date  \n",
       "547       100.0        6.78      RU  1.627842e+09  \n",
       "548       100.0        2.17      CF  1.627842e+09  \n",
       "549       100.0        2.01      MM  1.627842e+09  \n",
       "550        75.0       18.90      PT  1.627842e+09  \n",
       "551         0.0        6.71      CN  1.627842e+09  "
      ]
     },
     "execution_count": 54,
     "metadata": {},
     "output_type": "execute_result"
    }
   ],
   "source": [
    "clean_city_data.tail()"
   ]
  },
  {
   "cell_type": "code",
   "execution_count": null,
   "metadata": {},
   "outputs": [],
   "source": []
  },
  {
   "cell_type": "markdown",
   "metadata": {},
   "source": [
    "## Plotting the Data\n",
    "* Use proper labeling of the plots using plot titles (including date of analysis) and axes labels.\n",
    "* Save the plotted figures as .pngs."
   ]
  },
  {
   "cell_type": "markdown",
   "metadata": {},
   "source": [
    "## Latitude vs. Temperature Plot"
   ]
  },
  {
   "cell_type": "code",
   "execution_count": 55,
   "metadata": {
    "scrolled": true
   },
   "outputs": [
    {
     "data": {
      "image/png": "[encoded data removed]",
      "text/plain": [
       "<Figure size 360x360 with 1 Axes>"
      ]
     },
     "metadata": {
      "needs_background": "light"
     },
     "output_type": "display_data"
    }
   ],
   "source": [
    "plt.figure(figsize=(5,5))\n",
    "plt.scatter(clean_city_data['Lat'],clean_city_data['max_temp'])\n",
    "plt.xlabel(\"Lat\")\n",
    "plt.ylabel(\"max_temp\")\n",
    "plt.grid()\n",
    "plt.title(\"Latitude vs. Temperature Plot\")\n",
    "\n",
    "plt.tight_layout()\n",
    "\n",
    "plt.show()"
   ]
  },
  {
   "cell_type": "markdown",
   "metadata": {},
   "source": [
    "## Latitude vs. Humidity Plot"
   ]
  },
  {
   "cell_type": "code",
   "execution_count": 57,
   "metadata": {},
   "outputs": [
    {
     "data": {
      "image/png": "[encoded data removed]",
      "text/plain": [
       "<Figure size 432x432 with 1 Axes>"
      ]
     },
     "metadata": {
      "needs_background": "light"
     },
     "output_type": "display_data"
    }
   ],
   "source": [
    "plt.figure(figsize=(6,6))\n",
    "plt.scatter(clean_city_data['Lat'],clean_city_data['Humidity'])\n",
    "plt.xlabel(\"Lat\")\n",
    "plt.ylabel(\"Humidity\")\n",
    "plt.title(\"Latitude vs. Humidity Plot\")\n",
    "plt.grid()\n",
    "plt.tight_layout()\n",
    "plt.show()"
   ]
  },
  {
   "cell_type": "markdown",
   "metadata": {},
   "source": [
    "## Latitude vs. Cloudiness Plot"
   ]
  },
  {
   "cell_type": "code",
   "execution_count": 58,
   "metadata": {},
   "outputs": [
    {
     "data": {
      "image/png": "[encoded data removed]",
      "text/plain": [
       "<Figure size 432x432 with 1 Axes>"
      ]
     },
     "metadata": {
      "needs_background": "light"
     },
     "output_type": "display_data"
    }
   ],
   "source": [
    "plt.figure(figsize=(6,6))\n",
    "plt.scatter(clean_city_data['Lat'],clean_city_data['Cloudiness'])\n",
    "plt.xlabel(\"Lat\")\n",
    "plt.ylabel(\"Cloudiness\")\n",
    "plt.title(\"Latitude vs. Cloudiness Plot\")\n",
    "plt.grid()\n",
    "plt.tight_layout()\n",
    "\n",
    "plt.show()"
   ]
  },
  {
   "cell_type": "markdown",
   "metadata": {},
   "source": [
    "## Latitude vs. Wind Speed Plot"
   ]
  },
  {
   "cell_type": "code",
   "execution_count": 59,
   "metadata": {},
   "outputs": [
    {
     "data": {
      "image/png": "[encoded data removed]",
      "text/plain": [
       "<Figure size 432x432 with 1 Axes>"
      ]
     },
     "metadata": {
      "needs_background": "light"
     },
     "output_type": "display_data"
    }
   ],
   "source": [
    "plt.figure(figsize=(6,6))\n",
    "plt.scatter(clean_city_data['Lat'],clean_city_data['Wind Speed'])\n",
    "plt.xlabel(\"Lat\")\n",
    "plt.ylabel(\"Wind Speed\")\n",
    "plt.grid()\n",
    "plt.title(\"Latitude vs. Wind Speed\")\n",
    "\n",
    "plt.yticks([0,3,6,9,12,15])\n",
    "plt.xticks([-60,-45,-30,0,30,45,60,90])\n",
    "plt.tight_layout()\n",
    "\n",
    "plt.show()"
   ]
  },
  {
   "cell_type": "markdown",
   "metadata": {},
   "source": [
    "## Linear Regression"
   ]
  },
  {
   "cell_type": "code",
   "execution_count": 60,
   "metadata": {
    "scrolled": true
   },
   "outputs": [
    {
     "name": "stdout",
     "output_type": "stream",
     "text": [
      "<class 'pandas.core.frame.DataFrame'>\n",
      "RangeIndex: 386 entries, 0 to 385\n",
      "Data columns (total 11 columns):\n",
      " #   Column      Non-Null Count  Dtype  \n",
      "---  ------      --------------  -----  \n",
      " 0   level_0     386 non-null    int64  \n",
      " 1   index       386 non-null    int64  \n",
      " 2   city        386 non-null    object \n",
      " 3   Lat         386 non-null    float64\n",
      " 4   Lon         386 non-null    float64\n",
      " 5   max_temp    386 non-null    float64\n",
      " 6   Humidity    386 non-null    float64\n",
      " 7   Cloudiness  386 non-null    float64\n",
      " 8   Wind Speed  386 non-null    float64\n",
      " 9   Country     386 non-null    object \n",
      " 10  Date        386 non-null    float64\n",
      "dtypes: float64(7), int64(2), object(2)\n",
      "memory usage: 33.3+ KB\n"
     ]
    }
   ],
   "source": [
    "Northern_city_data=clean_city_data.loc[clean_city_data[\"Lat\"] > 0]\n",
    "Northern_city_data = Northern_city_data.sort_values(\"Lat\").reset_index(drop=False)\n",
    "Northern_city_data.head()\n",
    "Northern_city_data.info()"
   ]
  },
  {
   "cell_type": "code",
   "execution_count": 61,
   "metadata": {},
   "outputs": [
    {
     "name": "stdout",
     "output_type": "stream",
     "text": [
      "<class 'pandas.core.frame.DataFrame'>\n",
      "RangeIndex: 166 entries, 0 to 165\n",
      "Data columns (total 11 columns):\n",
      " #   Column      Non-Null Count  Dtype  \n",
      "---  ------      --------------  -----  \n",
      " 0   level_0     166 non-null    int64  \n",
      " 1   index       166 non-null    int64  \n",
      " 2   city        166 non-null    object \n",
      " 3   Lat         166 non-null    float64\n",
      " 4   Lon         166 non-null    float64\n",
      " 5   max_temp    166 non-null    float64\n",
      " 6   Humidity    166 non-null    float64\n",
      " 7   Cloudiness  166 non-null    float64\n",
      " 8   Wind Speed  166 non-null    float64\n",
      " 9   Country     166 non-null    object \n",
      " 10  Date        166 non-null    float64\n",
      "dtypes: float64(7), int64(2), object(2)\n",
      "memory usage: 14.4+ KB\n"
     ]
    }
   ],
   "source": [
    "Southern_city_data=clean_city_data.loc[clean_city_data[\"Lat\"] < 0]\n",
    "Southern_city_data = Southern_city_data.sort_values(\"Lat\").reset_index(drop=False)\n",
    "Southern_city_data.info()\n"
   ]
  },
  {
   "cell_type": "markdown",
   "metadata": {},
   "source": [
    "####  Northern Hemisphere - Max Temp vs. Latitude Linear Regression"
   ]
  },
  {
   "cell_type": "code",
   "execution_count": 93,
   "metadata": {},
   "outputs": [
    {
     "name": "stdout",
     "output_type": "stream",
     "text": [
      "-0.6679584291984416\n"
     ]
    },
    {
     "data": {
      "text/plain": [
       "<Figure size 576x576 with 0 Axes>"
      ]
     },
     "metadata": {},
     "output_type": "display_data"
    },
    {
     "data": {
      "image/png": "[encoded data removed]",
      "text/plain": [
       "<Figure size 432x288 with 1 Axes>"
      ]
     },
     "metadata": {
      "needs_background": "light"
     },
     "output_type": "display_data"
    }
   ],
   "source": [
    "slope, intercept, r, p, se = linregress(Northern_city_data[\"Lat\"],Northern_city_data[\"max_temp\"])\n",
    "print(r)\n",
    "plt.figure(figsize=(8,8))\n",
    "\n",
    "Northern_city_data.plot(kind=\"scatter\", x=\"Lat\", y=\"max_temp\")\n",
    "plt.xlabel('Latitude')\n",
    "plt.ylabel('Maximum Temperature')\n",
    "\n",
    "regress_values = Northern_city_data[\"Lat\"] * slope + intercept\n",
    "plt.plot(Northern_city_data[\"Lat\"],regress_values,\"r-\")\n",
    "\n",
    "line_eq = \"y = \" + str(round(slope,2)) + \"x + \" + str(round(intercept,2))\n",
    "plt.annotate(line_eq,(10,40),fontsize=15,color=\"red\")\n",
    "plt.title(\"Northern Hemisphere - Max Temp vs. Latitude Linear Regression\")\n",
    "\n",
    "plt.show()\n"
   ]
  },
  {
   "cell_type": "markdown",
   "metadata": {},
   "source": [
    "####  Southern Hemisphere - Max Temp vs. Latitude Linear Regression"
   ]
  },
  {
   "cell_type": "code",
   "execution_count": 64,
   "metadata": {},
   "outputs": [
    {
     "ename": "NameError",
     "evalue": "name 'plot_linear_regression' is not defined",
     "output_type": "error",
     "traceback": [
      "\u001b[1;31m---------------------------------------------------------------------------\u001b[0m",
      "\u001b[1;31mNameError\u001b[0m                                 Traceback (most recent call last)",
      "\u001b[1;32m<ipython-input-64-bb0b8bc40c69>\u001b[0m in \u001b[0;36m<module>\u001b[1;34m\u001b[0m\n\u001b[1;32m----> 1\u001b[1;33m \u001b[0mplot_linear_regression\u001b[0m\u001b[1;33m\u001b[0m\u001b[1;33m\u001b[0m\u001b[0m\n\u001b[0m",
      "\u001b[1;31mNameError\u001b[0m: name 'plot_linear_regression' is not defined"
     ]
    }
   ],
   "source": [
    "plot_linear_regression"
   ]
  },
  {
   "cell_type": "code",
   "execution_count": 92,
   "metadata": {
    "scrolled": true
   },
   "outputs": [
    {
     "name": "stdout",
     "output_type": "stream",
     "text": [
      "0.8064016541818729\n"
     ]
    },
    {
     "data": {
      "text/plain": [
       "<Figure size 576x576 with 0 Axes>"
      ]
     },
     "metadata": {},
     "output_type": "display_data"
    },
    {
     "data": {
      "image/png": "[encoded data removed]",
      "text/plain": [
       "<Figure size 432x288 with 1 Axes>"
      ]
     },
     "metadata": {
      "needs_background": "light"
     },
     "output_type": "display_data"
    }
   ],
   "source": [
    "slope, intercept, r, p, se = linregress(Southern_city_data[\"Lat\"],Southern_city_data[\"max_temp\"])\n",
    "print(r)\n",
    "plt.figure(figsize=(8,8))\n",
    "\n",
    "Southern_city_data.plot(kind=\"scatter\", x=\"Lat\", y=\"max_temp\")\n",
    "plt.xlabel('Latitude')\n",
    "plt.ylabel('Maximum Temperature')\n",
    "\n",
    "regress_values = Southern_city_data[\"Lat\"] * slope + intercept\n",
    "plt.plot(Southern_city_data[\"Lat\"],regress_values,\"r-\")\n",
    "\n",
    "line_eq = \"y = \" + str(round(slope,2)) + \"x + \" + str(round(intercept,2))\n",
    "plt.annotate(line_eq,(-20,50),fontsize=15,color=\"red\")\n",
    "\n",
    "plt.title(\"Southern Hemisphere - Max Temp vs. Latitude Linear Regression\")\n",
    "plt.show()\n"
   ]
  },
  {
   "cell_type": "markdown",
   "metadata": {},
   "source": [
    "####  Northern Hemisphere - Humidity (%) vs. Latitude Linear Regression"
   ]
  },
  {
   "cell_type": "code",
   "execution_count": 91,
   "metadata": {},
   "outputs": [
    {
     "name": "stdout",
     "output_type": "stream",
     "text": [
      "0.06047508946675594\n"
     ]
    },
    {
     "data": {
      "text/plain": [
       "<Figure size 576x576 with 0 Axes>"
      ]
     },
     "metadata": {},
     "output_type": "display_data"
    },
    {
     "data": {
      "image/png": "[encoded data removed]",
      "text/plain": [
       "<Figure size 432x288 with 1 Axes>"
      ]
     },
     "metadata": {
      "needs_background": "light"
     },
     "output_type": "display_data"
    }
   ],
   "source": [
    "\n",
    "slope, intercept, r, p, se = linregress(Northern_city_data[\"Lat\"],Northern_city_data[\"Humidity\"])\n",
    "print(r)\n",
    "plt.figure(figsize=(8,8))\n",
    "\n",
    "Northern_city_data.plot(kind=\"scatter\", x=\"Lat\", y=\"Humidity\")\n",
    "plt.xlabel('Latitude')\n",
    "plt.ylabel('Humidity')\n",
    "\n",
    "regress_values = Northern_city_data[\"Lat\"] * slope + intercept\n",
    "plt.plot(Northern_city_data[\"Lat\"],regress_values,\"r-\")\n",
    "\n",
    "line_eq = \"y = \" + str(round(slope,2)) + \"x + \" + str(round(intercept,2))\n",
    "plt.annotate(line_eq,(6,40),fontsize=15,color=\"red\")\n",
    "plt.title(\"Northern Hemisphere - Max Temp vs. Humidity Line Regression\")\n",
    "\n",
    "plt.show()\n"
   ]
  },
  {
   "cell_type": "markdown",
   "metadata": {},
   "source": [
    "####  Southern Hemisphere - Humidity (%) vs. Latitude Linear Regression"
   ]
  },
  {
   "cell_type": "code",
   "execution_count": 90,
   "metadata": {},
   "outputs": [
    {
     "name": "stdout",
     "output_type": "stream",
     "text": [
      "0.057387939813769995\n"
     ]
    },
    {
     "data": {
      "text/plain": [
       "<Figure size 576x576 with 0 Axes>"
      ]
     },
     "metadata": {},
     "output_type": "display_data"
    },
    {
     "data": {
      "image/png": "[encoded data removed]",
      "text/plain": [
       "<Figure size 432x288 with 1 Axes>"
      ]
     },
     "metadata": {
      "needs_background": "light"
     },
     "output_type": "display_data"
    }
   ],
   "source": [
    "\n",
    "slope, intercept, r, p, se = linregress(Southern_city_data[\"Lat\"],Southern_city_data[\"Humidity\"])\n",
    "print(r)\n",
    "plt.figure(figsize=(8,8))\n",
    "\n",
    "Southern_city_data.plot(kind=\"scatter\", x=\"Lat\", y=\"Humidity\")\n",
    "plt.xlabel('Latitude')\n",
    "plt.ylabel('Humidity')\n",
    "\n",
    "regress_values = Southern_city_data[\"Lat\"] * slope + intercept\n",
    "plt.plot(Southern_city_data[\"Lat\"],regress_values,\"r-\")\n",
    "\n",
    "line_eq = \"y = \" + str(round(slope,2)) + \"x + \" + str(round(intercept,2))\n",
    "plt.annotate(line_eq,(-40,40),fontsize=15,color=\"red\")\n",
    "\n",
    "plt.title(\"Southern Hemisphere - Max Temp vs. Humidity Line Regression\")\n",
    "\n",
    "plt.show()\n"
   ]
  },
  {
   "cell_type": "markdown",
   "metadata": {},
   "source": [
    "####  Northern Hemisphere - Cloudiness (%) vs. Latitude Linear Regression"
   ]
  },
  {
   "cell_type": "code",
   "execution_count": 89,
   "metadata": {},
   "outputs": [
    {
     "name": "stdout",
     "output_type": "stream",
     "text": [
      "0.030489307522235796\n"
     ]
    },
    {
     "data": {
      "text/plain": [
       "<Figure size 576x576 with 0 Axes>"
      ]
     },
     "metadata": {},
     "output_type": "display_data"
    },
    {
     "data": {
      "image/png": "[encoded data removed]",
      "text/plain": [
       "<Figure size 432x288 with 1 Axes>"
      ]
     },
     "metadata": {
      "needs_background": "light"
     },
     "output_type": "display_data"
    }
   ],
   "source": [
    "slope, intercept, r, p, se = linregress(Northern_city_data[\"Lat\"],Northern_city_data[\"Cloudiness\"])\n",
    "print(r)\n",
    "plt.figure(figsize=(8,8))\n",
    "\n",
    "Northern_city_data.plot(kind=\"scatter\", x=\"Lat\", y=\"Cloudiness\")\n",
    "plt.xlabel('Latitude')\n",
    "plt.ylabel('Cloudiness')\n",
    "\n",
    "regress_values = Northern_city_data[\"Lat\"] * slope + intercept\n",
    "plt.plot(Northern_city_data[\"Lat\"],regress_values,\"r-\")\n",
    "\n",
    "line_eq = \"y = \" + str(round(slope,2)) + \"x + \" + str(round(intercept,2))\n",
    "plt.annotate(line_eq,(10,40),fontsize=15,color=\"red\")\n",
    "plt.title(\"Northern Hemisphere - Max Temp vs. Cloudiness Linear Regression\")\n",
    "\n",
    "plt.show()\n"
   ]
  },
  {
   "cell_type": "markdown",
   "metadata": {},
   "source": [
    "####  Southern Hemisphere - Cloudiness (%) vs. Latitude Linear Regression"
   ]
  },
  {
   "cell_type": "code",
   "execution_count": 88,
   "metadata": {},
   "outputs": [
    {
     "name": "stdout",
     "output_type": "stream",
     "text": [
      "0.4368797915796785\n"
     ]
    },
    {
     "data": {
      "text/plain": [
       "<Figure size 576x576 with 0 Axes>"
      ]
     },
     "metadata": {},
     "output_type": "display_data"
    },
    {
     "data": {
      "image/png": "[encoded data removed]",
      "text/plain": [
       "<Figure size 432x288 with 1 Axes>"
      ]
     },
     "metadata": {
      "needs_background": "light"
     },
     "output_type": "display_data"
    }
   ],
   "source": [
    "slope, intercept, r, p, se = linregress(Southern_city_data[\"Lat\"],Southern_city_data[\"Cloudiness\"])\n",
    "print(r)\n",
    "plt.figure(figsize=(8,8))\n",
    "\n",
    "Southern_city_data.plot(kind=\"scatter\", x=\"Lat\", y=\"Cloudiness\")\n",
    "plt.xlabel('Latitude')\n",
    "plt.ylabel('Cloudiness')\n",
    "\n",
    "regress_values = Southern_city_data[\"Lat\"] * slope + intercept\n",
    "plt.plot(Southern_city_data[\"Lat\"],regress_values,\"r-\")\n",
    "\n",
    "line_eq = \"y = \" + str(round(slope,2)) + \"x + \" + str(round(intercept,2))\n",
    "plt.annotate(line_eq,(-50,40),fontsize=15,color=\"red\")\n",
    "plt.title(\"Southern Hemisphere - Latitude vs. Cloudiness Line Regression\")\n",
    "\n",
    "plt.show()\n"
   ]
  },
  {
   "cell_type": "markdown",
   "metadata": {},
   "source": [
    "####  Northern Hemisphere - Wind Speed (mph) vs. Latitude Linear Regression"
   ]
  },
  {
   "cell_type": "code",
   "execution_count": 76,
   "metadata": {},
   "outputs": [
    {
     "name": "stdout",
     "output_type": "stream",
     "text": [
      "-0.106405306626385\n"
     ]
    },
    {
     "data": {
      "text/plain": [
       "<Figure size 576x576 with 0 Axes>"
      ]
     },
     "metadata": {},
     "output_type": "display_data"
    },
    {
     "data": {
      "image/png": "[encoded data removed]",
      "text/plain": [
       "<Figure size 432x288 with 1 Axes>"
      ]
     },
     "metadata": {
      "needs_background": "light"
     },
     "output_type": "display_data"
    }
   ],
   "source": [
    "slope, intercept, r, p, se = linregress(Northern_city_data[\"Lat\"],Northern_city_data[\"Wind Speed\"])\n",
    "print(r)\n",
    "plt.figure(figsize=(8,8))\n",
    "\n",
    "Northern_city_data.plot(kind=\"scatter\", x=\"Lat\", y=\"Wind Speed\")\n",
    "plt.xlabel('Latitude')\n",
    "plt.ylabel('Wind Speed')\n",
    "\n",
    "regress_values = Northern_city_data[\"Lat\"] * slope + intercept\n",
    "plt.plot(Northern_city_data[\"Lat\"],regress_values,\"r-\")\n",
    "\n",
    "line_eq = \"y = \" + str(round(slope,2)) + \"x + \" + str(round(intercept,2))\n",
    "plt.annotate(line_eq,(6,10),fontsize=15,color=\"red\")\n",
    "plt.title(\"Northern Hemisphere - Max Temp vs. Wind Speed Linear Regression\")\n",
    "\n",
    "plt.show()\n"
   ]
  },
  {
   "cell_type": "markdown",
   "metadata": {},
   "source": [
    "####  Southern Hemisphere - Wind Speed (mph) vs. Latitude Linear Regression"
   ]
  },
  {
   "cell_type": "code",
   "execution_count": 86,
   "metadata": {},
   "outputs": [
    {
     "name": "stdout",
     "output_type": "stream",
     "text": [
      "-0.09122745531283054\n"
     ]
    },
    {
     "data": {
      "text/plain": [
       "<Figure size 576x576 with 0 Axes>"
      ]
     },
     "metadata": {},
     "output_type": "display_data"
    },
    {
     "data": {
      "image/png": "[encoded data removed]",
      "text/plain": [
       "<Figure size 432x288 with 1 Axes>"
      ]
     },
     "metadata": {
      "needs_background": "light"
     },
     "output_type": "display_data"
    }
   ],
   "source": [
    "slope, intercept, r, p, se = linregress(Southern_city_data[\"Lat\"],Southern_city_data[\"Wind Speed\"])\n",
    "print(r)\n",
    "plt.figure(figsize=(8,8))\n",
    "\n",
    "Southern_city_data.plot(kind=\"scatter\", x=\"Lat\", y=\"Wind Speed\")\n",
    "plt.xlabel('Latitude')\n",
    "plt.ylabel('Wind Speed')\n",
    "\n",
    "regress_values = Southern_city_data[\"Lat\"] * slope + intercept\n",
    "plt.plot(Southern_city_data[\"Lat\"],regress_values,\"r-\")\n",
    "\n",
    "line_eq = \"y = \" + str(round(slope,2)) + \"x + \" + str(round(intercept,2))\n",
    "plt.annotate(line_eq,(-30,25),fontsize=15,color=\"red\")\n",
    "plt.title(\"Southern Hemisphere - Latitude vs. Wind Speed Line Regression\")\n",
    "\n",
    "plt.show()\n"
   ]
  },
  {
   "cell_type": "code",
   "execution_count": 2,
   "metadata": {},
   "outputs": [],
   "source": [
    "###Conclusions"
   ]
  },
  {
   "cell_type": "code",
   "execution_count": null,
   "metadata": {},
   "outputs": [],
   "source": [
    "1.Tempratures of the cities close to equator are high and decreases when cities are away from equator.\n",
    "2.There are more cities in northern hemisphere than Southern Hemisphere\n",
    "3.wind speed is higher in southern cities as compare to northern cities"
   ]
  }
 ],
 "metadata": {
  "anaconda-cloud": {},
  "kernel_info": {
   "name": "python3"
  },
  "kernelspec": {
   "display_name": "Python 3",
   "language": "python",
   "name": "python3"
  },
  "language_info": {
   "codemirror_mode": {
    "name": "ipython",
    "version": 3
   },
   "file_extension": ".py",
   "mimetype": "text/x-python",
   "name": "python",
   "nbconvert_exporter": "python",
   "pygments_lexer": "ipython3",
   "version": "3.8.8"
  },
  "latex_envs": {
   "LaTeX_envs_menu_present": true,
   "autoclose": false,
   "autocomplete": true,
   "bibliofile": "biblio.bib",
   "cite_by": "apalike",
   "current_citInitial": 1,
   "eqLabelWithNumbers": true,
   "eqNumInitial": 1,
   "hotkeys": {
    "equation": "Ctrl-E",
    "itemize": "Ctrl-I"
   },
   "labels_anchors": false,
   "latex_user_defs": false,
   "report_style_numbering": false,
   "user_envs_cfg": false
  },
  "nteract": {
   "version": "0.12.3"
  }
 },
 "nbformat": 4,
 "nbformat_minor": 2
}
